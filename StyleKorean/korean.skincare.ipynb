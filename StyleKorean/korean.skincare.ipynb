{
 "metadata": {
  "language_info": {
   "codemirror_mode": {
    "name": "ipython",
    "version": 3
   },
   "file_extension": ".py",
   "mimetype": "text/x-python",
   "name": "python",
   "nbconvert_exporter": "python",
   "pygments_lexer": "ipython3",
   "version": "3.8.5-final"
  },
  "orig_nbformat": 2,
  "kernelspec": {
   "name": "Python 3.8.5 64-bit",
   "display_name": "Python 3.8.5 64-bit",
   "metadata": {
    "interpreter": {
     "hash": "082e9a3bcad0a290d0001e938aa60b99250c6c2ef33a923c00b70f9826caf4b7"
    }
   }
  }
 },
 "nbformat": 4,
 "nbformat_minor": 2,
 "cells": [
  {
   "cell_type": "code",
   "execution_count": 1,
   "metadata": {},
   "outputs": [],
   "source": [
    "import requests # for making standard html requests\n",
    "from bs4 import BeautifulSoup # magical tool for parsing html data\n",
    "import json # for parsing data\n",
    "import pandas as pd\n",
    "import numpy as np\n",
    "from pandas import DataFrame as df\n",
    "import csv \n",
    "from datetime import datetime\n",
    "import urllib.request\n",
    "\n",
    "import os \n",
    "os.chdir(\"/Users/susanchen/Desktop/Korean_skin_care\")"
   ]
  },
  {
   "cell_type": "code",
   "execution_count": 2,
   "metadata": {},
   "outputs": [],
   "source": [
    "a_url1 = \"https://www.stylekorean.com/shop/pr_listtype.php?idx=32\"\n",
    "acne_pg1 = requests.get(a_url1)\n",
    "soup = BeautifulSoup(acne_pg1.text, 'html.parser')"
   ]
  },
  {
   "cell_type": "code",
   "execution_count": 351,
   "metadata": {
    "tags": []
   },
   "outputs": [],
   "source": [
    "all_products = []\n",
    "for sec in soup.find_all('p'):\n",
    "    all_products.append(sec.text.strip(\"\\n\").splitlines())"
   ]
  },
  {
   "cell_type": "code",
   "execution_count": null,
   "metadata": {},
   "outputs": [],
   "source": [
    "all_products_links = soup.findAll(\"a\", class_= 'proimg')\n",
    "\n",
    "links = []\n",
    "for link in all_products_links:\n",
    "    links.append(link.get('href'))\n",
    "    "
   ]
  },
  {
   "cell_type": "code",
   "execution_count": 353,
   "metadata": {},
   "outputs": [],
   "source": [
    "all_products = all_products[6:]\n"
   ]
  },
  {
   "cell_type": "code",
   "execution_count": 359,
   "metadata": {},
   "outputs": [],
   "source": [
    "product_name =[]\n",
    "orginal_price = []\n",
    "discount_price = []\n",
    "num_reviews = []\n",
    "\n",
    "\n",
    "for product in all_products:\n",
    "    num_reviews.append(product[-1])\n",
    "    product_name.append(product[0])\n",
    "    orginal_price.append(product[1][:5])\n",
    "\n",
    "    if len(product)==4:\n",
    "        if (product[2] == ''):\n",
    "            discount_price.append(product[3][4:9])\n",
    "        else:\n",
    "            discount_price.append(product[2][3:8])\n",
    "    else:\n",
    "        try:\n",
    "            discount_price.append(product[3][4:9])\n",
    "        except IndexError:\n",
    "            discount_price.append(product[2][4:9])\n",
    "\n",
    "\n",
    "# no original price means the original price equals the discount price \n",
    "for i in range(len(orginal_price)):\n",
    "    if (orginal_price[i] == ''):\n",
    "        orginal_price[i] = discount_price[i]"
   ]
  },
  {
   "cell_type": "code",
   "execution_count": 69,
   "metadata": {
    "tags": []
   },
   "outputs": [],
   "source": [
    "def retrieve_all_products():\n",
    "      return (soup.find_all('li', class_='span4'))\n",
    "\n",
    "all_products = soup.find_all(\"li\")\n",
    "\n",
    "\n",
    "## get product name \n",
    "all_products = soup.find_all(\"ul\")\n",
    "product_one = all_products[1]"
   ]
  },
  {
   "cell_type": "code",
   "execution_count": 3,
   "metadata": {},
   "outputs": [],
   "source": [
    "def get_name ():\n",
    "    name = productSoup.find('h1', id = 'sit_title').text\n",
    "    products.append(name)"
   ]
  },
  {
   "source": [
    "def get_descr ():\n",
    "    try:\n",
    "        description = productSoup.find(\"div\", class_='pro_infor_content_style').text.strip()\n",
    "        descriptions.append(description)\n",
    "    except AttributeError:\n",
    "       descriptions.append(\"\")\n",
    "    "
   ],
   "cell_type": "code",
   "metadata": {},
   "execution_count": 4,
   "outputs": []
  },
  {
   "cell_type": "code",
   "execution_count": 5,
   "metadata": {},
   "outputs": [],
   "source": [
    "def get_num_reviews():\n",
    "    r = productSoup.find('div', id =\"sit_star_sns\")\n",
    "    try: # single digit\n",
    "        count = r.p.a.text[1:2]\n",
    "    except IndexError: # double digits\n",
    "        count = r.p.a.text[1:3]\n",
    "    except AttributeError:\n",
    "        count = 0\n",
    "    num_reviews.append(count)"
   ]
  },
  {
   "cell_type": "code",
   "execution_count": 10,
   "metadata": {
    "tags": []
   },
   "outputs": [],
   "source": [
    "def get_tags():\n",
    "    tag_list = list()\n",
    "    s = productSoup.find('div', id = 'itemuse2')\n",
    "    try: \n",
    "        s2 = s.find_all('a')\n",
    "        for row in s2:\n",
    "            tag_list.append(row.text.strip())\n",
    "        search_tags.append(tag_list)\n",
    "\n",
    "    except AttributeError:\n",
    "        search_tags.append('None')"
   ]
  },
  {
   "cell_type": "code",
   "execution_count": 6,
   "metadata": {},
   "outputs": [],
   "source": [
    "products = []\n",
    "descriptions = []\n",
    "num_reviews = []\n",
    "search_tags=[]"
   ]
  },
  {
   "cell_type": "code",
   "execution_count": 673,
   "metadata": {},
   "outputs": [],
   "source": [
    "## open all product links and extract product name\n",
    "for link in links:\n",
    "    productPage = requests.get(link)\n",
    "    productSoup = BeautifulSoup(productPage.text, 'html.parser')\n",
    "\n",
    "    get_name()\n",
    "    get_descr()\n",
    "    get_num_reviews()\n",
    "    get_tags()\n",
    "\n",
    "    "
   ]
  },
  {
   "cell_type": "code",
   "execution_count": 593,
   "metadata": {},
   "outputs": [],
   "source": [
    "## open all product links and extract needed info\n",
    "for link in links: \n",
    "    productPage = requests.get(link)\n",
    "    productSoup = BeautifulSoup(productPage.text, 'html.parser')\n",
    "        \n",
    "    # extract the product name \n",
    "    name = productSoup.find('h1', id = 'sit_title').text\n",
    "    products.append(name)\n",
    "\n",
    "    # extract the description if there are descriptions\n",
    "    try:\n",
    "        description = productSoup.find(\"div\", class_='pro_infor_content_style').text.strip()\n",
    "        descriptions.append(description)\n",
    "\n",
    "    except AttributeError:\n",
    "        pass\n",
    "        \n",
    "    # extract number of reviews if there are reviews\n",
    "    r = productSoup.find('div', id =\"sit_star_sns\") \n",
    "    try: \n",
    "        count = r.p.a.text[1:3]\n",
    "    except AttributeError:\n",
    "        count = 0\n",
    "    num_reviews.append(count)\n",
    "\n",
    "    # extract search tags if there are tags\n",
    "    tag_list = list()\n",
    "    s = productSoup.find('div', id = 'itemuse2')\n",
    "    try: \n",
    "        s2 = s.find_all('a')\n",
    "        for row in s2:\n",
    "            tag_list.append(row.text.strip())\n",
    "        search_tags.append(tag_list)\n",
    "\n",
    "    except AttributeError:\n",
    "        pass\n"
   ]
  },
  {
   "cell_type": "code",
   "execution_count": 678,
   "metadata": {},
   "outputs": [],
   "source": [
    "data = {\"Product\": products, 'Description': descriptions, 'Search Tags': search_tags, \"Number of Reviews\": num_reviews}"
   ]
  },
  {
   "cell_type": "code",
   "execution_count": 684,
   "metadata": {},
   "outputs": [],
   "source": [
    "df = pd.DataFrame(data)"
   ]
  },
  {
   "cell_type": "code",
   "execution_count": 685,
   "metadata": {},
   "outputs": [
    {
     "output_type": "execute_result",
     "data": {
      "text/plain": "                                              Product  \\\n0   [Briskin]  Real Fit Second Skin Mask (AC- Cont...   \n1                 [Dr.G]  Ph Cleansing Gel Foam 200ml   \n2   [Cell Fusion C]  Tre.AC Final Rescue Syrup Amp...   \n3   [SOME BY MI]  Bye Bye Blackhead 30Days Miracle...   \n4   [SOME BY MI]  Snail Truecica Miracle Repair Lo...   \n..                                                ...   \n91  [BELLAMONSTER]  Blemish UV Cut Solution Sun Cr...   \n92  [Dr.Jart]  ​Cicapair Calming Sun Protector 50m...   \n93  [BELLAMONSTER]  Pore Out Solution UV Cut Solut...   \n94                  [BY ECOM]  All Day Sunscreen 40ml   \n95  [Etude House]  SoonJung Barrier Sun Cream SPF4...   \n\n                                          Description  \\\n0   Keep your skin looking fresh and dewy with the...   \n1   - Low-irritant, mildly acidic cleansing gel fo...   \n2   Pink syrup ampoule to soothe skin problems\\nPi...   \n3   The fine BHA foam appears by itself after appl...   \n4   1. A mild and gentle cleanser with low pH valu...   \n..                                                ...   \n91  ● Natural skin tone up & improvement.\\n\\n● Vit...   \n92  UV ray protection with cica effect to sooth an...   \n93  - A cooling sun gel infused with watermelon se...   \n94  Mild yet powerful daily sunscreen\\n\\nLike you ...   \n95  Etude House Soon Jung range is free of potenti...   \n\n                                          Search Tags Number of Reviews  \n0   [moisture mask, paraben free, clay mask, Ampou...                 1  \n1   [aloe cleansing, green tea cleansing, snail cl...                 2  \n2   [anti wrinkle, whitening, skin softner, fermen...                 0  \n3   [aloe cleansing, green tea cleansing, snail cl...                 4  \n4   [aloe cleansing, green tea cleansing, snail cl...                 1  \n..                                                ...               ...  \n91                                               None                 1  \n92  [Sunblock, sun cream, sun protector, organic, ...                 6  \n93  [Sunblock, sun cream, sun protector, organic, ...                 1  \n94  [Sunblock, sun cream, sun protector, organic, ...                 0  \n95                                               None                 1  \n\n[96 rows x 4 columns]",
      "text/html": "<div>\n<style scoped>\n    .dataframe tbody tr th:only-of-type {\n        vertical-align: middle;\n    }\n\n    .dataframe tbody tr th {\n        vertical-align: top;\n    }\n\n    .dataframe thead th {\n        text-align: right;\n    }\n</style>\n<table border=\"1\" class=\"dataframe\">\n  <thead>\n    <tr style=\"text-align: right;\">\n      <th></th>\n      <th>Product</th>\n      <th>Description</th>\n      <th>Search Tags</th>\n      <th>Number of Reviews</th>\n    </tr>\n  </thead>\n  <tbody>\n    <tr>\n      <th>0</th>\n      <td>[Briskin]  Real Fit Second Skin Mask (AC- Cont...</td>\n      <td>Keep your skin looking fresh and dewy with the...</td>\n      <td>[moisture mask, paraben free, clay mask, Ampou...</td>\n      <td>1</td>\n    </tr>\n    <tr>\n      <th>1</th>\n      <td>[Dr.G]  Ph Cleansing Gel Foam 200ml</td>\n      <td>- Low-irritant, mildly acidic cleansing gel fo...</td>\n      <td>[aloe cleansing, green tea cleansing, snail cl...</td>\n      <td>2</td>\n    </tr>\n    <tr>\n      <th>2</th>\n      <td>[Cell Fusion C]  Tre.AC Final Rescue Syrup Amp...</td>\n      <td>Pink syrup ampoule to soothe skin problems\\nPi...</td>\n      <td>[anti wrinkle, whitening, skin softner, fermen...</td>\n      <td>0</td>\n    </tr>\n    <tr>\n      <th>3</th>\n      <td>[SOME BY MI]  Bye Bye Blackhead 30Days Miracle...</td>\n      <td>The fine BHA foam appears by itself after appl...</td>\n      <td>[aloe cleansing, green tea cleansing, snail cl...</td>\n      <td>4</td>\n    </tr>\n    <tr>\n      <th>4</th>\n      <td>[SOME BY MI]  Snail Truecica Miracle Repair Lo...</td>\n      <td>1. A mild and gentle cleanser with low pH valu...</td>\n      <td>[aloe cleansing, green tea cleansing, snail cl...</td>\n      <td>1</td>\n    </tr>\n    <tr>\n      <th>...</th>\n      <td>...</td>\n      <td>...</td>\n      <td>...</td>\n      <td>...</td>\n    </tr>\n    <tr>\n      <th>91</th>\n      <td>[BELLAMONSTER]  Blemish UV Cut Solution Sun Cr...</td>\n      <td>● Natural skin tone up &amp; improvement.\\n\\n● Vit...</td>\n      <td>None</td>\n      <td>1</td>\n    </tr>\n    <tr>\n      <th>92</th>\n      <td>[Dr.Jart]  ​Cicapair Calming Sun Protector 50m...</td>\n      <td>UV ray protection with cica effect to sooth an...</td>\n      <td>[Sunblock, sun cream, sun protector, organic, ...</td>\n      <td>6</td>\n    </tr>\n    <tr>\n      <th>93</th>\n      <td>[BELLAMONSTER]  Pore Out Solution UV Cut Solut...</td>\n      <td>- A cooling sun gel infused with watermelon se...</td>\n      <td>[Sunblock, sun cream, sun protector, organic, ...</td>\n      <td>1</td>\n    </tr>\n    <tr>\n      <th>94</th>\n      <td>[BY ECOM]  All Day Sunscreen 40ml</td>\n      <td>Mild yet powerful daily sunscreen\\n\\nLike you ...</td>\n      <td>[Sunblock, sun cream, sun protector, organic, ...</td>\n      <td>0</td>\n    </tr>\n    <tr>\n      <th>95</th>\n      <td>[Etude House]  SoonJung Barrier Sun Cream SPF4...</td>\n      <td>Etude House Soon Jung range is free of potenti...</td>\n      <td>None</td>\n      <td>1</td>\n    </tr>\n  </tbody>\n</table>\n<p>96 rows × 4 columns</p>\n</div>"
     },
     "metadata": {},
     "execution_count": 685
    }
   ],
   "source": [
    "df"
   ]
  },
  {
   "cell_type": "code",
   "execution_count": 686,
   "metadata": {},
   "outputs": [],
   "source": [
    "df.to_csv('trial.csv', index = False)"
   ]
  },
  {
   "cell_type": "code",
   "execution_count": 703,
   "metadata": {},
   "outputs": [],
   "source": [
    "moist1 = \"https://www.stylekorean.com/shop/list.php?ca_id=101010\"\n",
    "moist1_pg = requests.get(moist1)\n",
    "soup = BeautifulSoup(moist1_pg.text, 'html.parser')\n",
    "\n",
    "moisturizer_links = []\n",
    "blocks = soup.find_all('p', class_= 'sct_txt')\n",
    "for block in blocks:\n",
    "    link = block.a.get('href')\n",
    "    moisturizer_links.append(link)"
   ]
  },
  {
   "cell_type": "code",
   "execution_count": 8,
   "metadata": {},
   "outputs": [],
   "source": [
    "moisturizer_links =[]"
   ]
  },
  {
   "cell_type": "code",
   "execution_count": 9,
   "metadata": {
    "tags": []
   },
   "outputs": [
    {
     "output_type": "stream",
     "name": "stdout",
     "text": "https://www.stylekorean.com/shop/list.php?ca_id=101010&sort=&sortodr=&page=1\nhttps://www.stylekorean.com/shop/list.php?ca_id=101010&sort=&sortodr=&page=2\nhttps://www.stylekorean.com/shop/list.php?ca_id=101010&sort=&sortodr=&page=3\nhttps://www.stylekorean.com/shop/list.php?ca_id=101010&sort=&sortodr=&page=4\nhttps://www.stylekorean.com/shop/list.php?ca_id=101010&sort=&sortodr=&page=5\nhttps://www.stylekorean.com/shop/list.php?ca_id=101010&sort=&sortodr=&page=6\nhttps://www.stylekorean.com/shop/list.php?ca_id=101010&sort=&sortodr=&page=7\nhttps://www.stylekorean.com/shop/list.php?ca_id=101010&sort=&sortodr=&page=8\nhttps://www.stylekorean.com/shop/list.php?ca_id=101010&sort=&sortodr=&page=9\nhttps://www.stylekorean.com/shop/list.php?ca_id=101010&sort=&sortodr=&page=10\nhttps://www.stylekorean.com/shop/list.php?ca_id=101010&sort=&sortodr=&page=11\nhttps://www.stylekorean.com/shop/list.php?ca_id=101010&sort=&sortodr=&page=12\nhttps://www.stylekorean.com/shop/list.php?ca_id=101010&sort=&sortodr=&page=13\nhttps://www.stylekorean.com/shop/list.php?ca_id=101010&sort=&sortodr=&page=14\nhttps://www.stylekorean.com/shop/list.php?ca_id=101010&sort=&sortodr=&page=15\nhttps://www.stylekorean.com/shop/list.php?ca_id=101010&sort=&sortodr=&page=16\nhttps://www.stylekorean.com/shop/list.php?ca_id=101010&sort=&sortodr=&page=17\nhttps://www.stylekorean.com/shop/list.php?ca_id=101010&sort=&sortodr=&page=18\nhttps://www.stylekorean.com/shop/list.php?ca_id=101010&sort=&sortodr=&page=19\nhttps://www.stylekorean.com/shop/list.php?ca_id=101010&sort=&sortodr=&page=20\nhttps://www.stylekorean.com/shop/list.php?ca_id=101010&sort=&sortodr=&page=21\nhttps://www.stylekorean.com/shop/list.php?ca_id=101010&sort=&sortodr=&page=22\nhttps://www.stylekorean.com/shop/list.php?ca_id=101010&sort=&sortodr=&page=23\nhttps://www.stylekorean.com/shop/list.php?ca_id=101010&sort=&sortodr=&page=24\nhttps://www.stylekorean.com/shop/list.php?ca_id=101010&sort=&sortodr=&page=25\nhttps://www.stylekorean.com/shop/list.php?ca_id=101010&sort=&sortodr=&page=26\n"
    }
   ],
   "source": [
    "# scrape all 26 pages of moisturizers\n",
    "for i in range(1,27):\n",
    "    url = \"https://www.stylekorean.com/shop/list.php?ca_id=101010&sort=&sortodr=&page=\" +str(i)\n",
    "    pg = requests.get(url)\n",
    "    soup = BeautifulSoup(pg.text, 'html.parser')\n",
    "    blocks = soup.find_all('p', class_= 'sct_txt')\n",
    "    \n",
    "    for block in blocks:\n",
    "        link = block.a.get('href')\n",
    "        moisturizer_links.append(link)\n",
    "    print(url)"
   ]
  },
  {
   "cell_type": "code",
   "execution_count": 12,
   "metadata": {},
   "outputs": [],
   "source": [
    "products = []\n",
    "descriptions = []\n",
    "num_reviews = []\n",
    "search_tags=[]\n",
    "\n",
    "for link in moisturizer_links:\n",
    "    productPage = requests.get(link)\n",
    "    productSoup = BeautifulSoup(productPage.text, 'html.parser')\n",
    "\n",
    "    get_name()\n",
    "    get_descr()\n",
    "    get_num_reviews()\n",
    "    get_tags()\n",
    "\n",
    "moisturizer_data = {\"Product\": products, 'Description': descriptions, 'Search Tags': search_tags, \"Number of Reviews\": num_reviews}\n",
    "df1 = pd.DataFrame(moisturizer_data)\n",
    "df1.to_csv('moisturizer.csv', index = False)"
   ]
  },
  {
   "cell_type": "code",
   "execution_count": 7,
   "metadata": {},
   "outputs": [],
   "source": [
    "cleanser_links=[]\n",
    "mask_links = []\n",
    "sunscreen_links =[]"
   ]
  },
  {
   "cell_type": "code",
   "execution_count": 14,
   "metadata": {
    "tags": []
   },
   "outputs": [
    {
     "output_type": "stream",
     "name": "stdout",
     "text": "https://www.stylekorean.com/shop/list.php?ca_id=101070&sort=&sortodr=&page=1\nhttps://www.stylekorean.com/shop/list.php?ca_id=101070&sort=&sortodr=&page=2\nhttps://www.stylekorean.com/shop/list.php?ca_id=101070&sort=&sortodr=&page=3\nhttps://www.stylekorean.com/shop/list.php?ca_id=101070&sort=&sortodr=&page=4\nhttps://www.stylekorean.com/shop/list.php?ca_id=101070&sort=&sortodr=&page=5\nhttps://www.stylekorean.com/shop/list.php?ca_id=101070&sort=&sortodr=&page=6\nhttps://www.stylekorean.com/shop/list.php?ca_id=101070&sort=&sortodr=&page=7\nhttps://www.stylekorean.com/shop/list.php?ca_id=101070&sort=&sortodr=&page=8\nhttps://www.stylekorean.com/shop/list.php?ca_id=101070&sort=&sortodr=&page=9\n"
    }
   ],
   "source": [
    "# scrape all 9 pages of cleansers\n",
    "for i in range(1,10):\n",
    "    url = \"https://www.stylekorean.com/shop/list.php?ca_id=101070&sort=&sortodr=&page=\"+str(i)\n",
    "    pg = requests.get(url)\n",
    "    soup = BeautifulSoup(pg.text, 'html.parser')\n",
    "    blocks = soup.find_all('p', class_= 'sct_txt')\n",
    "    \n",
    "    for block in blocks:\n",
    "        link = block.a.get('href')\n",
    "        cleanser_links.append(link)\n",
    "    print(url)"
   ]
  },
  {
   "cell_type": "code",
   "execution_count": 15,
   "metadata": {},
   "outputs": [],
   "source": [
    "products = []\n",
    "descriptions = []\n",
    "num_reviews = []\n",
    "search_tags=[]\n",
    "\n",
    "for link in cleanser_links:\n",
    "    productPage = requests.get(link)\n",
    "    productSoup = BeautifulSoup(productPage.text, 'html.parser')\n",
    "\n",
    "    get_name()\n",
    "    get_descr()\n",
    "    get_num_reviews()\n",
    "    get_tags()\n",
    "\n",
    "cleanser_data = {\"Product\": products, 'Description': descriptions, 'Search Tags': search_tags, \"Number of Reviews\": num_reviews}\n",
    "df2 = pd.DataFrame(cleanser_data)\n",
    "df2.to_csv('cleanser.csv', index = False)"
   ]
  },
  {
   "cell_type": "code",
   "execution_count": 16,
   "metadata": {
    "tags": []
   },
   "outputs": [
    {
     "output_type": "stream",
     "name": "stdout",
     "text": "https://www.stylekorean.com/shop/list.php?ca_id=101060&sort=&sortodr=&page1\nhttps://www.stylekorean.com/shop/list.php?ca_id=101060&sort=&sortodr=&page2\nhttps://www.stylekorean.com/shop/list.php?ca_id=101060&sort=&sortodr=&page3\nhttps://www.stylekorean.com/shop/list.php?ca_id=101060&sort=&sortodr=&page4\nhttps://www.stylekorean.com/shop/list.php?ca_id=101060&sort=&sortodr=&page5\nhttps://www.stylekorean.com/shop/list.php?ca_id=101060&sort=&sortodr=&page6\nhttps://www.stylekorean.com/shop/list.php?ca_id=101060&sort=&sortodr=&page7\nhttps://www.stylekorean.com/shop/list.php?ca_id=101060&sort=&sortodr=&page8\nhttps://www.stylekorean.com/shop/list.php?ca_id=101060&sort=&sortodr=&page9\nhttps://www.stylekorean.com/shop/list.php?ca_id=101060&sort=&sortodr=&page10\nhttps://www.stylekorean.com/shop/list.php?ca_id=101060&sort=&sortodr=&page11\nhttps://www.stylekorean.com/shop/list.php?ca_id=101060&sort=&sortodr=&page12\n"
    }
   ],
   "source": [
    "# scrape all 12 pages of masks\n",
    "for i in range(1,13):\n",
    "    url = \"https://www.stylekorean.com/shop/list.php?ca_id=101060&sort=&sortodr=&page\"+str(i)\n",
    "    pg = requests.get(url)\n",
    "    soup = BeautifulSoup(pg.text, 'html.parser')\n",
    "    blocks = soup.find_all('p', class_= 'sct_txt')\n",
    "    \n",
    "    for block in blocks:\n",
    "        link = block.a.get('href')\n",
    "        mask_links.append(link)\n",
    "    print(url)"
   ]
  },
  {
   "cell_type": "code",
   "execution_count": 17,
   "metadata": {},
   "outputs": [],
   "source": [
    "products = []\n",
    "descriptions = []\n",
    "num_reviews = []\n",
    "search_tags=[]\n",
    "\n",
    "for link in mask_links:\n",
    "    productPage = requests.get(link)\n",
    "    productSoup = BeautifulSoup(productPage.text, 'html.parser')\n",
    "\n",
    "    get_name()\n",
    "    get_descr()\n",
    "    get_num_reviews()\n",
    "    get_tags()\n",
    "\n",
    "mask_data = {\"Product\": products, 'Description': descriptions, 'Search Tags': search_tags, \"Number of Reviews\": num_reviews}\n",
    "df3 = pd.DataFrame(mask_data)\n",
    "df3.to_csv('mask.csv', index = False)"
   ]
  },
  {
   "cell_type": "code",
   "execution_count": 8,
   "metadata": {
    "tags": []
   },
   "outputs": [
    {
     "output_type": "stream",
     "name": "stdout",
     "text": "https://www.stylekorean.com/shop/list.php?ca_id=101030&sort=&sortodr=&page=1\nhttps://www.stylekorean.com/shop/list.php?ca_id=101030&sort=&sortodr=&page=2\nhttps://www.stylekorean.com/shop/list.php?ca_id=101030&sort=&sortodr=&page=3\nhttps://www.stylekorean.com/shop/list.php?ca_id=101030&sort=&sortodr=&page=4\n"
    }
   ],
   "source": [
    "# scrape all 4 pages of sunscreen\n",
    "for i in range(1,5):\n",
    "    url = \"https://www.stylekorean.com/shop/list.php?ca_id=101030&sort=&sortodr=&page=\"+str(i)\n",
    "    pg = requests.get(url)\n",
    "    soup = BeautifulSoup(pg.text, 'html.parser')\n",
    "    blocks = soup.find_all('p', class_= 'sct_txt')\n",
    "    \n",
    "    for block in blocks:\n",
    "        link = block.a.get('href')\n",
    "        sunscreen_links.append(link)\n",
    "    print(url)"
   ]
  },
  {
   "cell_type": "code",
   "execution_count": 11,
   "metadata": {},
   "outputs": [],
   "source": [
    "products = []\n",
    "descriptions = []\n",
    "num_reviews = []\n",
    "search_tags=[]\n",
    "\n",
    "for link in sunscreen_links:\n",
    "    productPage = requests.get(link)\n",
    "    productSoup = BeautifulSoup(productPage.text, 'html.parser')\n",
    "\n",
    "    get_name()\n",
    "    get_descr()\n",
    "    get_num_reviews()\n",
    "    get_tags()\n",
    "\n",
    "sunscreen_data = {\"Product\": products, 'Description': descriptions, 'Search Tags': search_tags, \"Number of Reviews\": num_reviews}\n",
    "df4 = pd.DataFrame(sunscreen_data)\n",
    "df4.to_csv('sunscreen.csv', index = False)"
   ]
  },
  {
   "cell_type": "code",
   "execution_count": null,
   "metadata": {},
   "outputs": [],
   "source": []
  }
 ]
}