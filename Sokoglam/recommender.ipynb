{
 "metadata": {
  "language_info": {
   "codemirror_mode": {
    "name": "ipython",
    "version": 3
   },
   "file_extension": ".py",
   "mimetype": "text/x-python",
   "name": "python",
   "nbconvert_exporter": "python",
   "pygments_lexer": "ipython3",
   "version": "3.8.5-final"
  },
  "orig_nbformat": 2,
  "kernelspec": {
   "name": "Python 3.8.5 64-bit",
   "display_name": "Python 3.8.5 64-bit",
   "metadata": {
    "interpreter": {
     "hash": "aee8b7b246df8f9039afb4144a1f6fd8d2ca17a180786b69acc140d282b71a49"
    }
   }
  }
 },
 "nbformat": 4,
 "nbformat_minor": 2,
 "cells": [
  {
   "cell_type": "code",
   "execution_count": 1,
   "metadata": {},
   "outputs": [
    {
     "output_type": "error",
     "ename": "FileNotFoundError",
     "evalue": "[Errno 2] No such file or directory: '/Users/susanchen/Desktop/Korean_skin_care/Sokoglam'",
     "traceback": [
      "\u001b[0;31m---------------------------------------------------------------------------\u001b[0m",
      "\u001b[0;31mFileNotFoundError\u001b[0m                         Traceback (most recent call last)",
      "\u001b[0;32m<ipython-input-1-ad1aa36c9f38>\u001b[0m in \u001b[0;36m<module>\u001b[0;34m\u001b[0m\n\u001b[1;32m      7\u001b[0m \u001b[0;34m\u001b[0m\u001b[0m\n\u001b[1;32m      8\u001b[0m \u001b[0;32mimport\u001b[0m \u001b[0mos\u001b[0m\u001b[0;34m\u001b[0m\u001b[0;34m\u001b[0m\u001b[0m\n\u001b[0;32m----> 9\u001b[0;31m \u001b[0mos\u001b[0m\u001b[0;34m.\u001b[0m\u001b[0mchdir\u001b[0m\u001b[0;34m(\u001b[0m\u001b[0;34m\"/Users/susanchen/Desktop/Korean_skin_care/Sokoglam\"\u001b[0m\u001b[0;34m)\u001b[0m\u001b[0;34m\u001b[0m\u001b[0;34m\u001b[0m\u001b[0m\n\u001b[0m",
      "\u001b[0;31mFileNotFoundError\u001b[0m: [Errno 2] No such file or directory: '/Users/susanchen/Desktop/Korean_skin_care/Sokoglam'"
     ]
    }
   ],
   "source": [
    "import numpy as np \n",
    "import pandas as pd\n",
    "import csv \n",
    "%matplotlib inline\n",
    "import seaborn as sns\n",
    "import matplotlib.pyplot as plt\n",
    "\n",
    "import os \n",
    "os.chdir(\"/Users/susanchen/Desktop/Korean_skin_care/Sokoglam\")"
   ]
  },
  {
   "source": [
    "## Loading the 4 data files "
   ],
   "cell_type": "markdown",
   "metadata": {}
  },
  {
   "source": [
    "All data files are available on my [Github](https://github.com/sc6354/Korean-Skincare-Recommender)."
   ],
   "cell_type": "markdown",
   "metadata": {}
  },
  {
   "cell_type": "code",
   "execution_count": 2,
   "metadata": {},
   "outputs": [],
   "source": [
    "oily = pd.read_csv(\"oily.csv\")\n",
    "dry = pd.read_csv('dry.csv')\n",
    "norm = pd.read_csv('normal.csv')\n",
    "combo = pd.read_csv('combination.csv')"
   ]
  },
  {
   "source": [
    "#### For each dataset, we add columns (Oily, Dry, Normal, and Combination) to represent what skin type the product is suitable for. A value of 1 represents suitability, i.e. 1 in the Dry column means the product suits dry skin types. "
   ],
   "cell_type": "markdown",
   "metadata": {}
  },
  {
   "cell_type": "code",
   "execution_count": 3,
   "metadata": {},
   "outputs": [],
   "source": [
    "oily[\"Oily\"] = 1\n",
    "oily[\"Dry\"] = 0\n",
    "oily[\"Normal\"] = 0\n",
    "oily[\"Combination\"] = 0"
   ]
  },
  {
   "cell_type": "code",
   "execution_count": 4,
   "metadata": {},
   "outputs": [],
   "source": [
    "dry[\"Oily\"] = 0\n",
    "dry[\"Dry\"] = 1\n",
    "dry[\"Normal\"] = 0\n",
    "dry[\"Combination\"] = 0"
   ]
  },
  {
   "cell_type": "code",
   "execution_count": 5,
   "metadata": {},
   "outputs": [],
   "source": [
    "norm[\"Oily\"] = 0\n",
    "norm[\"Dry\"] = 0\n",
    "norm[\"Normal\"] = 1\n",
    "norm[\"Combination\"] = 0"
   ]
  },
  {
   "cell_type": "code",
   "execution_count": 6,
   "metadata": {},
   "outputs": [],
   "source": [
    "combo[\"Oily\"] = 0\n",
    "combo[\"Dry\"] = 0\n",
    "combo[\"Normal\"] = 0\n",
    "combo[\"Combination\"] = 1"
   ]
  },
  {
   "cell_type": "code",
   "execution_count": 7,
   "metadata": {},
   "outputs": [],
   "source": [
    "frames= [oily, dry, norm, combo]\n",
    "Master = pd.concat(frames)"
   ]
  },
  {
   "source": [
    "## Removing Duplicates and Product Sets\n",
    "\n",
    "Some products are suitable for more than one skin type. We will need to check which rows are duplicates, set them aside, and extract valuable information from them.\n"
   ],
   "cell_type": "markdown",
   "metadata": {}
  },
  {
   "cell_type": "code",
   "execution_count": 42,
   "metadata": {},
   "outputs": [],
   "source": [
    "# Remove Duplicates\n",
    "new_Master = Master.duplicated(subset = 'Product', keep = 'first')\n",
    "# create a dataframe for duplicates\n",
    "duplicates = Master[new_Master]\n",
    "# create a dataframe for the new data\n",
    "df = Master[~new_Master]"
   ]
  },
  {
   "cell_type": "code",
   "execution_count": 43,
   "metadata": {},
   "outputs": [
    {
     "output_type": "execute_result",
     "data": {
      "text/plain": "                                               Product                Brand  \\\n0                     Licorice Loves Exclusive Duo Set               ACWELL   \n1                  Green Pearlsation PHA Calming Toner               KLAVUU   \n2    Pure Pearlsation pH Balancing Quick Cleansing Pad               KLAVUU   \n3                                   AC Clear Magic Gel       THE PLANT BASE   \n4                Real Flower Cleansing Water—Calendula               NEOGEN   \n..                                                 ...                  ...   \n95                         5-Step Combination Skin Set  SOKO GLAM EXCLUSIVE   \n114                              5-Step Anti-Aging Set  SOKO GLAM EXCLUSIVE   \n124        Pure Pearlsation Divine Pearl Cleansing Oil               KLAVUU   \n140          A'pieu Real Big Yogurt One-Bottle (Plain)               A'PIEU   \n141     A'pieu Real Big Yogurt One-Bottle (Strawberry)               A'PIEU   \n\n                                           Description  \\\n0    **$66 value!After reading your rave reviews an...   \n1    Softer, more hydrated skin is at your fingerti...   \n2    Even the most stubborn of makeup comes off in ...   \n3    This targeted treatment gel controls breakout-...   \n4    Featured in the Ipsy Glam BagIf natural beauty...   \n..                                                 ...   \n95   Exclusive to Soko Glam**Over $132 Value!Click ...   \n114  Exclusive to Soko Glam**Over $144 value Achiev...   \n124  This rich oil cleanser removes oil-based impur...   \n140  Yogurt is more than a nutritious breakfast! Yo...   \n141  Yogurt is more than a nutritious breakfast! Yo...   \n\n                                           Ingredients Price  Oily  Dry  \\\n0    Licorice pH Balancing Cleansing Toner :\\r\\nWat...    46     1    0   \n1    Water, Melaleuca Alternifolia (Tea Tree) Leaf ...    19     1    0   \n2    Water, Dipropylene  Glycol, Diethoxyethyl  Suc...  17.5     1    0   \n3    Centella Asiatica Leaf Extract (78.54%) ,Butyl...    23     1    0   \n4    Water, PEG-6 Caprylic/Capric Glycerides, Calen...    22     1    0   \n..                                                 ...   ...   ...  ...   \n95                                                 NaN    95     0    0   \n114                                                NaN    95     0    0   \n124  Mineral oil, carthamus tinctorius (safflower) ...    35     0    0   \n140  Water, Propanediol, 1,2-Hexanediol, Hydroxyace...     2     0    0   \n141  Water, Propanediol, 1,2-Hexanediol, Hydroxyace...     2     0    0   \n\n     Normal  Combination  \n0         0            0  \n1         0            0  \n2         0            0  \n3         0            0  \n4         0            0  \n..      ...          ...  \n95        0            1  \n114       0            1  \n124       0            1  \n140       0            1  \n141       0            1  \n\n[263 rows x 9 columns]",
      "text/html": "<div>\n<style scoped>\n    .dataframe tbody tr th:only-of-type {\n        vertical-align: middle;\n    }\n\n    .dataframe tbody tr th {\n        vertical-align: top;\n    }\n\n    .dataframe thead th {\n        text-align: right;\n    }\n</style>\n<table border=\"1\" class=\"dataframe\">\n  <thead>\n    <tr style=\"text-align: right;\">\n      <th></th>\n      <th>Product</th>\n      <th>Brand</th>\n      <th>Description</th>\n      <th>Ingredients</th>\n      <th>Price</th>\n      <th>Oily</th>\n      <th>Dry</th>\n      <th>Normal</th>\n      <th>Combination</th>\n    </tr>\n  </thead>\n  <tbody>\n    <tr>\n      <th>0</th>\n      <td>Licorice Loves Exclusive Duo Set</td>\n      <td>ACWELL</td>\n      <td>**$66 value!After reading your rave reviews an...</td>\n      <td>Licorice pH Balancing Cleansing Toner :\\r\\nWat...</td>\n      <td>46</td>\n      <td>1</td>\n      <td>0</td>\n      <td>0</td>\n      <td>0</td>\n    </tr>\n    <tr>\n      <th>1</th>\n      <td>Green Pearlsation PHA Calming Toner</td>\n      <td>KLAVUU</td>\n      <td>Softer, more hydrated skin is at your fingerti...</td>\n      <td>Water, Melaleuca Alternifolia (Tea Tree) Leaf ...</td>\n      <td>19</td>\n      <td>1</td>\n      <td>0</td>\n      <td>0</td>\n      <td>0</td>\n    </tr>\n    <tr>\n      <th>2</th>\n      <td>Pure Pearlsation pH Balancing Quick Cleansing Pad</td>\n      <td>KLAVUU</td>\n      <td>Even the most stubborn of makeup comes off in ...</td>\n      <td>Water, Dipropylene  Glycol, Diethoxyethyl  Suc...</td>\n      <td>17.5</td>\n      <td>1</td>\n      <td>0</td>\n      <td>0</td>\n      <td>0</td>\n    </tr>\n    <tr>\n      <th>3</th>\n      <td>AC Clear Magic Gel</td>\n      <td>THE PLANT BASE</td>\n      <td>This targeted treatment gel controls breakout-...</td>\n      <td>Centella Asiatica Leaf Extract (78.54%) ,Butyl...</td>\n      <td>23</td>\n      <td>1</td>\n      <td>0</td>\n      <td>0</td>\n      <td>0</td>\n    </tr>\n    <tr>\n      <th>4</th>\n      <td>Real Flower Cleansing Water—Calendula</td>\n      <td>NEOGEN</td>\n      <td>Featured in the Ipsy Glam BagIf natural beauty...</td>\n      <td>Water, PEG-6 Caprylic/Capric Glycerides, Calen...</td>\n      <td>22</td>\n      <td>1</td>\n      <td>0</td>\n      <td>0</td>\n      <td>0</td>\n    </tr>\n    <tr>\n      <th>...</th>\n      <td>...</td>\n      <td>...</td>\n      <td>...</td>\n      <td>...</td>\n      <td>...</td>\n      <td>...</td>\n      <td>...</td>\n      <td>...</td>\n      <td>...</td>\n    </tr>\n    <tr>\n      <th>95</th>\n      <td>5-Step Combination Skin Set</td>\n      <td>SOKO GLAM EXCLUSIVE</td>\n      <td>Exclusive to Soko Glam**Over $132 Value!Click ...</td>\n      <td>NaN</td>\n      <td>95</td>\n      <td>0</td>\n      <td>0</td>\n      <td>0</td>\n      <td>1</td>\n    </tr>\n    <tr>\n      <th>114</th>\n      <td>5-Step Anti-Aging Set</td>\n      <td>SOKO GLAM EXCLUSIVE</td>\n      <td>Exclusive to Soko Glam**Over $144 value Achiev...</td>\n      <td>NaN</td>\n      <td>95</td>\n      <td>0</td>\n      <td>0</td>\n      <td>0</td>\n      <td>1</td>\n    </tr>\n    <tr>\n      <th>124</th>\n      <td>Pure Pearlsation Divine Pearl Cleansing Oil</td>\n      <td>KLAVUU</td>\n      <td>This rich oil cleanser removes oil-based impur...</td>\n      <td>Mineral oil, carthamus tinctorius (safflower) ...</td>\n      <td>35</td>\n      <td>0</td>\n      <td>0</td>\n      <td>0</td>\n      <td>1</td>\n    </tr>\n    <tr>\n      <th>140</th>\n      <td>A'pieu Real Big Yogurt One-Bottle (Plain)</td>\n      <td>A'PIEU</td>\n      <td>Yogurt is more than a nutritious breakfast! Yo...</td>\n      <td>Water, Propanediol, 1,2-Hexanediol, Hydroxyace...</td>\n      <td>2</td>\n      <td>0</td>\n      <td>0</td>\n      <td>0</td>\n      <td>1</td>\n    </tr>\n    <tr>\n      <th>141</th>\n      <td>A'pieu Real Big Yogurt One-Bottle (Strawberry)</td>\n      <td>A'PIEU</td>\n      <td>Yogurt is more than a nutritious breakfast! Yo...</td>\n      <td>Water, Propanediol, 1,2-Hexanediol, Hydroxyace...</td>\n      <td>2</td>\n      <td>0</td>\n      <td>0</td>\n      <td>0</td>\n      <td>1</td>\n    </tr>\n  </tbody>\n</table>\n<p>263 rows × 9 columns</p>\n</div>"
     },
     "metadata": {},
     "execution_count": 43
    }
   ],
   "source": [
    "# take a look at df to make sure everything checks out\n",
    "df"
   ]
  },
  {
   "source": [
    "Properly copy the one-hot encoding for skin types from the Duplicates dataframe to df. The result should be a dataframe with products that have 1's in more than one skin type column. "
   ],
   "cell_type": "markdown",
   "metadata": {}
  },
  {
   "cell_type": "code",
   "execution_count": 44,
   "metadata": {
    "tags": []
   },
   "outputs": [],
   "source": [
    "for i in range(len(duplicates)):\n",
    "\n",
    "    ## Products that are also suitable for Oily skin types \n",
    "    if (duplicates.iloc[i][5] == 1):\n",
    "        prod = duplicates.iloc[i][0]\n",
    "        df.loc[df['Product'] == prod,['Oily']] = 1\n",
    "        \n",
    "    # Product that are also suitable for dry skin types\n",
    "    elif (duplicates.iloc[i][6] == 1):\n",
    "        prod = duplicates.iloc[i][0]\n",
    "        df.loc[df[\"Product\"] == prod, ['Dry']] == 1\n",
    "    \n",
    "    ## Products that are also suitable for Normal skin types \n",
    "    elif (duplicates.iloc[i][7] == 1):\n",
    "        prod = duplicates.iloc[i][0]\n",
    "        df.loc[df['Product'] == prod,['Normal']] = 1\n",
    "\n",
    "    # Product that are also suitable for Combination skin types\n",
    "    elif (duplicates.iloc[i][8] == 1):\n",
    "        prod = duplicates.iloc[i][0]\n",
    "        df.loc[df[\"Product\"] == prod, ['Combination']] == 1\n",
    "\n",
    "\n",
    "df.to_csv('Master.csv', index= False)"
   ]
  },
  {
   "cell_type": "code",
   "execution_count": 45,
   "metadata": {},
   "outputs": [
    {
     "output_type": "execute_result",
     "data": {
      "text/plain": "                                             Product                Brand  \\\n0                   Licorice Loves Exclusive Duo Set               ACWELL   \n1                Green Pearlsation PHA Calming Toner               KLAVUU   \n2  Pure Pearlsation pH Balancing Quick Cleansing Pad               KLAVUU   \n3                                 AC Clear Magic Gel       THE PLANT BASE   \n4              Real Flower Cleansing Water—Calendula               NEOGEN   \n5                           Soft Shield Pimple Patch             the klog   \n6        Time Revolution Artemisia Treatment Essence               MISSHA   \n7                        Fundamental Water Gel Cream               KLAIRS   \n8            Pore Clarifying Toner 10% Glycolic Acid        SATURDAY SKIN   \n9                             5-Step Brightening Set  SOKO GLAM EXCLUSIVE   \n\n                                         Description  \\\n0  **$66 value!After reading your rave reviews an...   \n1  Softer, more hydrated skin is at your fingerti...   \n2  Even the most stubborn of makeup comes off in ...   \n3  This targeted treatment gel controls breakout-...   \n4  Featured in the Ipsy Glam BagIf natural beauty...   \n5  Exclusively Available at Soko Glam!Using near-...   \n6  Heal and nourish red, sensitized skin with thi...   \n7  Deeply hydrate and strengthen parched skin wit...   \n8  Take control of your skin care journey with th...   \n9  Exclusive to Soko Glam**Over $125 Value!If you...   \n\n                                         Ingredients Price  Oily  Dry  Normal  \\\n0  Licorice pH Balancing Cleansing Toner :\\r\\nWat...    46     1    0       1   \n1  Water, Melaleuca Alternifolia (Tea Tree) Leaf ...    19     1    0       0   \n2  Water, Dipropylene  Glycol, Diethoxyethyl  Suc...  17.5     1    0       1   \n3  Centella Asiatica Leaf Extract (78.54%) ,Butyl...    23     1    0       0   \n4  Water, PEG-6 Caprylic/Capric Glycerides, Calen...    22     1    0       0   \n5                                     Hydrocolloid\\n     6     1    0       1   \n6                     100% Artemisia annua extract\\n    55     1    0       0   \n7  Camellia Sinensis Leaf Water, Butylene Glycol,...    31     1    0       1   \n8  Water/Aqua/Eau, Glycolic Acid, Hamamelis Virgi...    30     1    0       0   \n9                                                NaN    95     1    0       0   \n\n   Combination  \n0            0  \n1            0  \n2            0  \n3            0  \n4            0  \n5            0  \n6            0  \n7            0  \n8            0  \n9            0  ",
      "text/html": "<div>\n<style scoped>\n    .dataframe tbody tr th:only-of-type {\n        vertical-align: middle;\n    }\n\n    .dataframe tbody tr th {\n        vertical-align: top;\n    }\n\n    .dataframe thead th {\n        text-align: right;\n    }\n</style>\n<table border=\"1\" class=\"dataframe\">\n  <thead>\n    <tr style=\"text-align: right;\">\n      <th></th>\n      <th>Product</th>\n      <th>Brand</th>\n      <th>Description</th>\n      <th>Ingredients</th>\n      <th>Price</th>\n      <th>Oily</th>\n      <th>Dry</th>\n      <th>Normal</th>\n      <th>Combination</th>\n    </tr>\n  </thead>\n  <tbody>\n    <tr>\n      <th>0</th>\n      <td>Licorice Loves Exclusive Duo Set</td>\n      <td>ACWELL</td>\n      <td>**$66 value!After reading your rave reviews an...</td>\n      <td>Licorice pH Balancing Cleansing Toner :\\r\\nWat...</td>\n      <td>46</td>\n      <td>1</td>\n      <td>0</td>\n      <td>1</td>\n      <td>0</td>\n    </tr>\n    <tr>\n      <th>1</th>\n      <td>Green Pearlsation PHA Calming Toner</td>\n      <td>KLAVUU</td>\n      <td>Softer, more hydrated skin is at your fingerti...</td>\n      <td>Water, Melaleuca Alternifolia (Tea Tree) Leaf ...</td>\n      <td>19</td>\n      <td>1</td>\n      <td>0</td>\n      <td>0</td>\n      <td>0</td>\n    </tr>\n    <tr>\n      <th>2</th>\n      <td>Pure Pearlsation pH Balancing Quick Cleansing Pad</td>\n      <td>KLAVUU</td>\n      <td>Even the most stubborn of makeup comes off in ...</td>\n      <td>Water, Dipropylene  Glycol, Diethoxyethyl  Suc...</td>\n      <td>17.5</td>\n      <td>1</td>\n      <td>0</td>\n      <td>1</td>\n      <td>0</td>\n    </tr>\n    <tr>\n      <th>3</th>\n      <td>AC Clear Magic Gel</td>\n      <td>THE PLANT BASE</td>\n      <td>This targeted treatment gel controls breakout-...</td>\n      <td>Centella Asiatica Leaf Extract (78.54%) ,Butyl...</td>\n      <td>23</td>\n      <td>1</td>\n      <td>0</td>\n      <td>0</td>\n      <td>0</td>\n    </tr>\n    <tr>\n      <th>4</th>\n      <td>Real Flower Cleansing Water—Calendula</td>\n      <td>NEOGEN</td>\n      <td>Featured in the Ipsy Glam BagIf natural beauty...</td>\n      <td>Water, PEG-6 Caprylic/Capric Glycerides, Calen...</td>\n      <td>22</td>\n      <td>1</td>\n      <td>0</td>\n      <td>0</td>\n      <td>0</td>\n    </tr>\n    <tr>\n      <th>5</th>\n      <td>Soft Shield Pimple Patch</td>\n      <td>the klog</td>\n      <td>Exclusively Available at Soko Glam!Using near-...</td>\n      <td>Hydrocolloid\\n</td>\n      <td>6</td>\n      <td>1</td>\n      <td>0</td>\n      <td>1</td>\n      <td>0</td>\n    </tr>\n    <tr>\n      <th>6</th>\n      <td>Time Revolution Artemisia Treatment Essence</td>\n      <td>MISSHA</td>\n      <td>Heal and nourish red, sensitized skin with thi...</td>\n      <td>100% Artemisia annua extract\\n</td>\n      <td>55</td>\n      <td>1</td>\n      <td>0</td>\n      <td>0</td>\n      <td>0</td>\n    </tr>\n    <tr>\n      <th>7</th>\n      <td>Fundamental Water Gel Cream</td>\n      <td>KLAIRS</td>\n      <td>Deeply hydrate and strengthen parched skin wit...</td>\n      <td>Camellia Sinensis Leaf Water, Butylene Glycol,...</td>\n      <td>31</td>\n      <td>1</td>\n      <td>0</td>\n      <td>1</td>\n      <td>0</td>\n    </tr>\n    <tr>\n      <th>8</th>\n      <td>Pore Clarifying Toner 10% Glycolic Acid</td>\n      <td>SATURDAY SKIN</td>\n      <td>Take control of your skin care journey with th...</td>\n      <td>Water/Aqua/Eau, Glycolic Acid, Hamamelis Virgi...</td>\n      <td>30</td>\n      <td>1</td>\n      <td>0</td>\n      <td>0</td>\n      <td>0</td>\n    </tr>\n    <tr>\n      <th>9</th>\n      <td>5-Step Brightening Set</td>\n      <td>SOKO GLAM EXCLUSIVE</td>\n      <td>Exclusive to Soko Glam**Over $125 Value!If you...</td>\n      <td>NaN</td>\n      <td>95</td>\n      <td>1</td>\n      <td>0</td>\n      <td>0</td>\n      <td>0</td>\n    </tr>\n  </tbody>\n</table>\n</div>"
     },
     "metadata": {},
     "execution_count": 45
    }
   ],
   "source": [
    "# examine df \n",
    "df.head(10)\n",
    "#df.loc[df['Oily'] == 1]"
   ]
  },
  {
   "source": [
    "### \n",
    "These products had a discount price, however we need only the current price at the time. So we will remove the discount price."
   ],
   "cell_type": "markdown",
   "metadata": {}
  },
  {
   "cell_type": "code",
   "execution_count": 51,
   "metadata": {},
   "outputs": [],
   "source": [
    "data['Price'] = data['Price'].replace(['38\\n30.40'],'30.40')\n",
    "data['Price'] = data['Price'].replace(['38\\n26'],'26.00')\n",
    "data['Price'] = data['Price'].replace(['88\\n70.40'],'70.40')\n",
    "data['Price'] = data['Price'].replace(['26\\n13'],'13.00')\n",
    "\n",
    "data['Price'] = data['Price'].astype(float)"
   ]
  },
  {
   "cell_type": "code",
   "execution_count": 52,
   "metadata": {},
   "outputs": [],
   "source": [
    "# remove sets from the dataframe \n",
    "data.drop(data[data[\"Ingredients\"] == \"nan\"].index, inplace = True) \n",
    "data = data.reset_index(drop=True)"
   ]
  },
  {
   "cell_type": "code",
   "execution_count": 49,
   "metadata": {},
   "outputs": [],
   "source": [
    "# save dataframe as Master\n",
    "data = pd.read_csv('Master.csv')"
   ]
  },
  {
   "source": [
    "## Functions for later"
   ],
   "cell_type": "markdown",
   "metadata": {}
  },
  {
   "cell_type": "code",
   "execution_count": null,
   "metadata": {},
   "outputs": [],
   "source": [
    "def clean (text):\n",
    "    clean_text = []\n",
    "    for i in text:\n",
    "        i = i.strip().lower()\n",
    "        clean_text.append(i)\n",
    "    return clean_text\n",
    "\n",
    "def get_index_from_combined_data(iList):\n",
    "    return data[data[\"combined\"]== iList].index.values[0]\n",
    "    #return data[data.Ingredients == iList][\"Product\"].values[0]\n",
    "\n",
    "def get_index_from_list(iList):\n",
    "    return data[data[\"Ingredients\"]== iList].index.values[0]\n",
    "\n",
    "def get_product_from_index(index):\n",
    "    return data[data.index == index][\"Product\"].values[0]\n",
    "    #print(data[data[\"Product\"]== \"Licorice Loves Exclusive Duo Set\"].index.values)\n",
    "\n",
    "def get_brand_from_index(index):\n",
    "    return data[data.index == index][\"Brand\"].values[0]"
   ]
  },
  {
   "source": [
    "## Quick Visualization of Prices"
   ],
   "cell_type": "markdown",
   "metadata": {}
  },
  {
   "cell_type": "code",
   "execution_count": 55,
   "metadata": {},
   "outputs": [
    {
     "output_type": "display_data",
     "data": {
      "text/plain": "<Figure size 432x288 with 1 Axes>",
      "image/svg+xml": "<?xml version=\"1.0\" encoding=\"utf-8\" standalone=\"no\"?>\n<!DOCTYPE svg PUBLIC \"-//W3C//DTD SVG 1.1//EN\"\n  \"http://www.w3.org/Graphics/SVG/1.1/DTD/svg11.dtd\">\n<!-- Created with matplotlib (https://matplotlib.org/) -->\n<svg height=\"277.314375pt\" version=\"1.1\" viewBox=\"0 0 398.50625 277.314375\" width=\"398.50625pt\" xmlns=\"http://www.w3.org/2000/svg\" xmlns:xlink=\"http://www.w3.org/1999/xlink\">\n <metadata>\n  <rdf:RDF xmlns:cc=\"http://creativecommons.org/ns#\" xmlns:dc=\"http://purl.org/dc/elements/1.1/\" xmlns:rdf=\"http://www.w3.org/1999/02/22-rdf-syntax-ns#\">\n   <cc:Work>\n    <dc:type rdf:resource=\"http://purl.org/dc/dcmitype/StillImage\"/>\n    <dc:date>2020-09-28T22:55:28.467108</dc:date>\n    <dc:format>image/svg+xml</dc:format>\n    <dc:creator>\n     <cc:Agent>\n      <dc:title>Matplotlib v3.3.0, https://matplotlib.org/</dc:title>\n     </cc:Agent>\n    </dc:creator>\n   </cc:Work>\n  </rdf:RDF>\n </metadata>\n <defs>\n  <style type=\"text/css\">*{stroke-linecap:butt;stroke-linejoin:round;}</style>\n </defs>\n <g id=\"figure_1\">\n  <g id=\"patch_1\">\n   <path d=\"M 0 277.314375 \nL 398.50625 277.314375 \nL 398.50625 0 \nL 0 0 \nz\n\" style=\"fill:none;\"/>\n  </g>\n  <g id=\"axes_1\">\n   <g id=\"patch_2\">\n    <path d=\"M 56.50625 239.758125 \nL 391.30625 239.758125 \nL 391.30625 22.318125 \nL 56.50625 22.318125 \nz\n\" style=\"fill:#ffffff;\"/>\n   </g>\n   <g id=\"patch_3\">\n    <path clip-path=\"url(#pc060944cb9)\" d=\"M 104.012696 239.758125 \nL 119.998503 239.758125 \nL 119.998503 164.308291 \nL 104.012696 164.308291 \nz\n\" style=\"fill:#1f77b4;opacity:0.4;\"/>\n   </g>\n   <g id=\"patch_4\">\n    <path clip-path=\"url(#pc060944cb9)\" d=\"M 119.998503 239.758125 \nL 135.98431 239.758125 \nL 135.98431 32.672411 \nL 119.998503 32.672411 \nz\n\" style=\"fill:#1f77b4;opacity:0.4;\"/>\n   </g>\n   <g id=\"patch_5\">\n    <path clip-path=\"url(#pc060944cb9)\" d=\"M 135.98431 239.758125 \nL 151.970117 239.758125 \nL 151.970117 149.860451 \nL 135.98431 149.860451 \nz\n\" style=\"fill:#1f77b4;opacity:0.4;\"/>\n   </g>\n   <g id=\"patch_6\">\n    <path clip-path=\"url(#pc060944cb9)\" d=\"M 151.970117 239.758125 \nL 167.955925 239.758125 \nL 167.955925 220.494338 \nL 151.970117 220.494338 \nz\n\" style=\"fill:#1f77b4;opacity:0.4;\"/>\n   </g>\n   <g id=\"patch_7\">\n    <path clip-path=\"url(#pc060944cb9)\" d=\"M 167.955925 239.758125 \nL 183.941732 239.758125 \nL 183.941732 233.336863 \nL 167.955925 233.336863 \nz\n\" style=\"fill:#1f77b4;opacity:0.4;\"/>\n   </g>\n   <g id=\"patch_8\">\n    <path clip-path=\"url(#pc060944cb9)\" d=\"M 183.941732 239.758125 \nL 199.927539 239.758125 \nL 199.927539 233.336863 \nL 183.941732 233.336863 \nz\n\" style=\"fill:#1f77b4;opacity:0.4;\"/>\n   </g>\n   <g id=\"patch_9\">\n    <path clip-path=\"url(#pc060944cb9)\" d=\"M 199.927539 239.758125 \nL 215.913346 239.758125 \nL 215.913346 239.758125 \nL 199.927539 239.758125 \nz\n\" style=\"fill:#1f77b4;opacity:0.4;\"/>\n   </g>\n   <g id=\"patch_10\">\n    <path clip-path=\"url(#pc060944cb9)\" d=\"M 215.913346 239.758125 \nL 231.899154 239.758125 \nL 231.899154 228.520916 \nL 215.913346 228.520916 \nz\n\" style=\"fill:#1f77b4;opacity:0.4;\"/>\n   </g>\n   <g id=\"patch_11\">\n    <path clip-path=\"url(#pc060944cb9)\" d=\"M 231.899154 239.758125 \nL 247.884961 239.758125 \nL 247.884961 239.758125 \nL 231.899154 239.758125 \nz\n\" style=\"fill:#1f77b4;opacity:0.4;\"/>\n   </g>\n   <g id=\"patch_12\">\n    <path clip-path=\"url(#pc060944cb9)\" d=\"M 247.884961 239.758125 \nL 263.870768 239.758125 \nL 263.870768 239.758125 \nL 247.884961 239.758125 \nz\n\" style=\"fill:#1f77b4;opacity:0.4;\"/>\n   </g>\n   <g id=\"patch_13\">\n    <path clip-path=\"url(#pc060944cb9)\" d=\"M 263.870768 239.758125 \nL 279.856575 239.758125 \nL 279.856575 239.758125 \nL 263.870768 239.758125 \nz\n\" style=\"fill:#1f77b4;opacity:0.4;\"/>\n   </g>\n   <g id=\"patch_14\">\n    <path clip-path=\"url(#pc060944cb9)\" d=\"M 279.856575 239.758125 \nL 295.842383 239.758125 \nL 295.842383 239.758125 \nL 279.856575 239.758125 \nz\n\" style=\"fill:#1f77b4;opacity:0.4;\"/>\n   </g>\n   <g id=\"patch_15\">\n    <path clip-path=\"url(#pc060944cb9)\" d=\"M 295.842383 239.758125 \nL 311.82819 239.758125 \nL 311.82819 239.758125 \nL 295.842383 239.758125 \nz\n\" style=\"fill:#1f77b4;opacity:0.4;\"/>\n   </g>\n   <g id=\"patch_16\">\n    <path clip-path=\"url(#pc060944cb9)\" d=\"M 311.82819 239.758125 \nL 327.813997 239.758125 \nL 327.813997 239.758125 \nL 311.82819 239.758125 \nz\n\" style=\"fill:#1f77b4;opacity:0.4;\"/>\n   </g>\n   <g id=\"patch_17\">\n    <path clip-path=\"url(#pc060944cb9)\" d=\"M 327.813997 239.758125 \nL 343.799804 239.758125 \nL 343.799804 233.336863 \nL 327.813997 233.336863 \nz\n\" style=\"fill:#1f77b4;opacity:0.4;\"/>\n   </g>\n   <g id=\"matplotlib.axis_1\">\n    <g id=\"xtick_1\">\n     <g id=\"line2d_1\">\n      <defs>\n       <path d=\"M 0 0 \nL 0 3.5 \n\" id=\"m745d1cd51c\" style=\"stroke:#000000;stroke-width:0.8;\"/>\n      </defs>\n      <g>\n       <use style=\"stroke:#000000;stroke-width:0.8;\" x=\"101.578309\" xlink:href=\"#m745d1cd51c\" y=\"239.758125\"/>\n      </g>\n     </g>\n     <g id=\"text_1\">\n      <!-- 0 -->\n      <g transform=\"translate(98.397059 254.356562)scale(0.1 -0.1)\">\n       <defs>\n        <path d=\"M 31.78125 66.40625 \nQ 24.171875 66.40625 20.328125 58.90625 \nQ 16.5 51.421875 16.5 36.375 \nQ 16.5 21.390625 20.328125 13.890625 \nQ 24.171875 6.390625 31.78125 6.390625 \nQ 39.453125 6.390625 43.28125 13.890625 \nQ 47.125 21.390625 47.125 36.375 \nQ 47.125 51.421875 43.28125 58.90625 \nQ 39.453125 66.40625 31.78125 66.40625 \nz\nM 31.78125 74.21875 \nQ 44.046875 74.21875 50.515625 64.515625 \nQ 56.984375 54.828125 56.984375 36.375 \nQ 56.984375 17.96875 50.515625 8.265625 \nQ 44.046875 -1.421875 31.78125 -1.421875 \nQ 19.53125 -1.421875 13.0625 8.265625 \nQ 6.59375 17.96875 6.59375 36.375 \nQ 6.59375 54.828125 13.0625 64.515625 \nQ 19.53125 74.21875 31.78125 74.21875 \nz\n\" id=\"DejaVuSans-48\"/>\n       </defs>\n       <use xlink:href=\"#DejaVuSans-48\"/>\n      </g>\n     </g>\n    </g>\n    <g id=\"xtick_2\">\n     <g id=\"line2d_2\">\n      <g>\n       <use style=\"stroke:#000000;stroke-width:0.8;\" x=\"162.437981\" xlink:href=\"#m745d1cd51c\" y=\"239.758125\"/>\n      </g>\n     </g>\n     <g id=\"text_2\">\n      <!-- 50 -->\n      <g transform=\"translate(156.075481 254.356562)scale(0.1 -0.1)\">\n       <defs>\n        <path d=\"M 10.796875 72.90625 \nL 49.515625 72.90625 \nL 49.515625 64.59375 \nL 19.828125 64.59375 \nL 19.828125 46.734375 \nQ 21.96875 47.46875 24.109375 47.828125 \nQ 26.265625 48.1875 28.421875 48.1875 \nQ 40.625 48.1875 47.75 41.5 \nQ 54.890625 34.8125 54.890625 23.390625 \nQ 54.890625 11.625 47.5625 5.09375 \nQ 40.234375 -1.421875 26.90625 -1.421875 \nQ 22.3125 -1.421875 17.546875 -0.640625 \nQ 12.796875 0.140625 7.71875 1.703125 \nL 7.71875 11.625 \nQ 12.109375 9.234375 16.796875 8.0625 \nQ 21.484375 6.890625 26.703125 6.890625 \nQ 35.15625 6.890625 40.078125 11.328125 \nQ 45.015625 15.765625 45.015625 23.390625 \nQ 45.015625 31 40.078125 35.4375 \nQ 35.15625 39.890625 26.703125 39.890625 \nQ 22.75 39.890625 18.8125 39.015625 \nQ 14.890625 38.140625 10.796875 36.28125 \nz\n\" id=\"DejaVuSans-53\"/>\n       </defs>\n       <use xlink:href=\"#DejaVuSans-53\"/>\n       <use x=\"63.623047\" xlink:href=\"#DejaVuSans-48\"/>\n      </g>\n     </g>\n    </g>\n    <g id=\"xtick_3\">\n     <g id=\"line2d_3\">\n      <g>\n       <use style=\"stroke:#000000;stroke-width:0.8;\" x=\"223.297653\" xlink:href=\"#m745d1cd51c\" y=\"239.758125\"/>\n      </g>\n     </g>\n     <g id=\"text_3\">\n      <!-- 100 -->\n      <g transform=\"translate(213.753903 254.356562)scale(0.1 -0.1)\">\n       <defs>\n        <path d=\"M 12.40625 8.296875 \nL 28.515625 8.296875 \nL 28.515625 63.921875 \nL 10.984375 60.40625 \nL 10.984375 69.390625 \nL 28.421875 72.90625 \nL 38.28125 72.90625 \nL 38.28125 8.296875 \nL 54.390625 8.296875 \nL 54.390625 0 \nL 12.40625 0 \nz\n\" id=\"DejaVuSans-49\"/>\n       </defs>\n       <use xlink:href=\"#DejaVuSans-49\"/>\n       <use x=\"63.623047\" xlink:href=\"#DejaVuSans-48\"/>\n       <use x=\"127.246094\" xlink:href=\"#DejaVuSans-48\"/>\n      </g>\n     </g>\n    </g>\n    <g id=\"xtick_4\">\n     <g id=\"line2d_4\">\n      <g>\n       <use style=\"stroke:#000000;stroke-width:0.8;\" x=\"284.157326\" xlink:href=\"#m745d1cd51c\" y=\"239.758125\"/>\n      </g>\n     </g>\n     <g id=\"text_4\">\n      <!-- 150 -->\n      <g transform=\"translate(274.613576 254.356562)scale(0.1 -0.1)\">\n       <use xlink:href=\"#DejaVuSans-49\"/>\n       <use x=\"63.623047\" xlink:href=\"#DejaVuSans-53\"/>\n       <use x=\"127.246094\" xlink:href=\"#DejaVuSans-48\"/>\n      </g>\n     </g>\n    </g>\n    <g id=\"xtick_5\">\n     <g id=\"line2d_5\">\n      <g>\n       <use style=\"stroke:#000000;stroke-width:0.8;\" x=\"345.016998\" xlink:href=\"#m745d1cd51c\" y=\"239.758125\"/>\n      </g>\n     </g>\n     <g id=\"text_5\">\n      <!-- 200 -->\n      <g transform=\"translate(335.473248 254.356562)scale(0.1 -0.1)\">\n       <defs>\n        <path d=\"M 19.1875 8.296875 \nL 53.609375 8.296875 \nL 53.609375 0 \nL 7.328125 0 \nL 7.328125 8.296875 \nQ 12.9375 14.109375 22.625 23.890625 \nQ 32.328125 33.6875 34.8125 36.53125 \nQ 39.546875 41.84375 41.421875 45.53125 \nQ 43.3125 49.21875 43.3125 52.78125 \nQ 43.3125 58.59375 39.234375 62.25 \nQ 35.15625 65.921875 28.609375 65.921875 \nQ 23.96875 65.921875 18.8125 64.3125 \nQ 13.671875 62.703125 7.8125 59.421875 \nL 7.8125 69.390625 \nQ 13.765625 71.78125 18.9375 73 \nQ 24.125 74.21875 28.421875 74.21875 \nQ 39.75 74.21875 46.484375 68.546875 \nQ 53.21875 62.890625 53.21875 53.421875 \nQ 53.21875 48.921875 51.53125 44.890625 \nQ 49.859375 40.875 45.40625 35.40625 \nQ 44.1875 33.984375 37.640625 27.21875 \nQ 31.109375 20.453125 19.1875 8.296875 \nz\n\" id=\"DejaVuSans-50\"/>\n       </defs>\n       <use xlink:href=\"#DejaVuSans-50\"/>\n       <use x=\"63.623047\" xlink:href=\"#DejaVuSans-48\"/>\n       <use x=\"127.246094\" xlink:href=\"#DejaVuSans-48\"/>\n      </g>\n     </g>\n    </g>\n    <g id=\"text_6\">\n     <!-- Price ($) -->\n     <g transform=\"translate(203.036719 268.034687)scale(0.1 -0.1)\">\n      <defs>\n       <path d=\"M 19.671875 64.796875 \nL 19.671875 37.40625 \nL 32.078125 37.40625 \nQ 38.96875 37.40625 42.71875 40.96875 \nQ 46.484375 44.53125 46.484375 51.125 \nQ 46.484375 57.671875 42.71875 61.234375 \nQ 38.96875 64.796875 32.078125 64.796875 \nz\nM 9.8125 72.90625 \nL 32.078125 72.90625 \nQ 44.34375 72.90625 50.609375 67.359375 \nQ 56.890625 61.8125 56.890625 51.125 \nQ 56.890625 40.328125 50.609375 34.8125 \nQ 44.34375 29.296875 32.078125 29.296875 \nL 19.671875 29.296875 \nL 19.671875 0 \nL 9.8125 0 \nz\n\" id=\"DejaVuSans-80\"/>\n       <path d=\"M 41.109375 46.296875 \nQ 39.59375 47.171875 37.8125 47.578125 \nQ 36.03125 48 33.890625 48 \nQ 26.265625 48 22.1875 43.046875 \nQ 18.109375 38.09375 18.109375 28.8125 \nL 18.109375 0 \nL 9.078125 0 \nL 9.078125 54.6875 \nL 18.109375 54.6875 \nL 18.109375 46.1875 \nQ 20.953125 51.171875 25.484375 53.578125 \nQ 30.03125 56 36.53125 56 \nQ 37.453125 56 38.578125 55.875 \nQ 39.703125 55.765625 41.0625 55.515625 \nz\n\" id=\"DejaVuSans-114\"/>\n       <path d=\"M 9.421875 54.6875 \nL 18.40625 54.6875 \nL 18.40625 0 \nL 9.421875 0 \nz\nM 9.421875 75.984375 \nL 18.40625 75.984375 \nL 18.40625 64.59375 \nL 9.421875 64.59375 \nz\n\" id=\"DejaVuSans-105\"/>\n       <path d=\"M 48.78125 52.59375 \nL 48.78125 44.1875 \nQ 44.96875 46.296875 41.140625 47.34375 \nQ 37.3125 48.390625 33.40625 48.390625 \nQ 24.65625 48.390625 19.8125 42.84375 \nQ 14.984375 37.3125 14.984375 27.296875 \nQ 14.984375 17.28125 19.8125 11.734375 \nQ 24.65625 6.203125 33.40625 6.203125 \nQ 37.3125 6.203125 41.140625 7.25 \nQ 44.96875 8.296875 48.78125 10.40625 \nL 48.78125 2.09375 \nQ 45.015625 0.34375 40.984375 -0.53125 \nQ 36.96875 -1.421875 32.421875 -1.421875 \nQ 20.0625 -1.421875 12.78125 6.34375 \nQ 5.515625 14.109375 5.515625 27.296875 \nQ 5.515625 40.671875 12.859375 48.328125 \nQ 20.21875 56 33.015625 56 \nQ 37.15625 56 41.109375 55.140625 \nQ 45.0625 54.296875 48.78125 52.59375 \nz\n\" id=\"DejaVuSans-99\"/>\n       <path d=\"M 56.203125 29.59375 \nL 56.203125 25.203125 \nL 14.890625 25.203125 \nQ 15.484375 15.921875 20.484375 11.0625 \nQ 25.484375 6.203125 34.421875 6.203125 \nQ 39.59375 6.203125 44.453125 7.46875 \nQ 49.3125 8.734375 54.109375 11.28125 \nL 54.109375 2.78125 \nQ 49.265625 0.734375 44.1875 -0.34375 \nQ 39.109375 -1.421875 33.890625 -1.421875 \nQ 20.796875 -1.421875 13.15625 6.1875 \nQ 5.515625 13.8125 5.515625 26.8125 \nQ 5.515625 40.234375 12.765625 48.109375 \nQ 20.015625 56 32.328125 56 \nQ 43.359375 56 49.78125 48.890625 \nQ 56.203125 41.796875 56.203125 29.59375 \nz\nM 47.21875 32.234375 \nQ 47.125 39.59375 43.09375 43.984375 \nQ 39.0625 48.390625 32.421875 48.390625 \nQ 24.90625 48.390625 20.390625 44.140625 \nQ 15.875 39.890625 15.1875 32.171875 \nz\n\" id=\"DejaVuSans-101\"/>\n       <path id=\"DejaVuSans-32\"/>\n       <path d=\"M 31 75.875 \nQ 24.46875 64.65625 21.28125 53.65625 \nQ 18.109375 42.671875 18.109375 31.390625 \nQ 18.109375 20.125 21.3125 9.0625 \nQ 24.515625 -2 31 -13.1875 \nL 23.1875 -13.1875 \nQ 15.875 -1.703125 12.234375 9.375 \nQ 8.59375 20.453125 8.59375 31.390625 \nQ 8.59375 42.28125 12.203125 53.3125 \nQ 15.828125 64.359375 23.1875 75.875 \nz\n\" id=\"DejaVuSans-40\"/>\n       <path d=\"M 33.796875 -14.703125 \nL 28.90625 -14.703125 \nL 28.859375 0 \nQ 23.734375 0.09375 18.609375 1.1875 \nQ 13.484375 2.296875 8.296875 4.5 \nL 8.296875 13.28125 \nQ 13.28125 10.15625 18.375 8.5625 \nQ 23.484375 6.984375 28.90625 6.9375 \nL 28.90625 29.203125 \nQ 18.109375 30.953125 13.203125 35.15625 \nQ 8.296875 39.359375 8.296875 46.6875 \nQ 8.296875 54.640625 13.625 59.21875 \nQ 18.953125 63.8125 28.90625 64.5 \nL 28.90625 75.984375 \nL 33.796875 75.984375 \nL 33.796875 64.65625 \nQ 38.328125 64.453125 42.578125 63.6875 \nQ 46.828125 62.9375 50.875 61.625 \nL 50.875 53.078125 \nQ 46.828125 55.125 42.546875 56.25 \nQ 38.28125 57.375 33.796875 57.5625 \nL 33.796875 36.71875 \nQ 44.875 35.015625 50.09375 30.609375 \nQ 55.328125 26.21875 55.328125 18.609375 \nQ 55.328125 10.359375 49.78125 5.59375 \nQ 44.234375 0.828125 33.796875 0.09375 \nz\nM 28.90625 37.59375 \nL 28.90625 57.625 \nQ 23.25 56.984375 20.265625 54.390625 \nQ 17.28125 51.8125 17.28125 47.515625 \nQ 17.28125 43.3125 20.03125 40.96875 \nQ 22.796875 38.625 28.90625 37.59375 \nz\nM 33.796875 28.21875 \nL 33.796875 7.078125 \nQ 39.984375 7.90625 43.140625 10.59375 \nQ 46.296875 13.28125 46.296875 17.671875 \nQ 46.296875 21.96875 43.28125 24.5 \nQ 40.28125 27.046875 33.796875 28.21875 \nz\n\" id=\"DejaVuSans-36\"/>\n       <path d=\"M 8.015625 75.875 \nL 15.828125 75.875 \nQ 23.140625 64.359375 26.78125 53.3125 \nQ 30.421875 42.28125 30.421875 31.390625 \nQ 30.421875 20.453125 26.78125 9.375 \nQ 23.140625 -1.703125 15.828125 -13.1875 \nL 8.015625 -13.1875 \nQ 14.5 -2 17.703125 9.0625 \nQ 20.90625 20.125 20.90625 31.390625 \nQ 20.90625 42.671875 17.703125 53.65625 \nQ 14.5 64.65625 8.015625 75.875 \nz\n\" id=\"DejaVuSans-41\"/>\n      </defs>\n      <use xlink:href=\"#DejaVuSans-80\"/>\n      <use x=\"58.552734\" xlink:href=\"#DejaVuSans-114\"/>\n      <use x=\"99.666016\" xlink:href=\"#DejaVuSans-105\"/>\n      <use x=\"127.449219\" xlink:href=\"#DejaVuSans-99\"/>\n      <use x=\"182.429688\" xlink:href=\"#DejaVuSans-101\"/>\n      <use x=\"243.953125\" xlink:href=\"#DejaVuSans-32\"/>\n      <use x=\"275.740234\" xlink:href=\"#DejaVuSans-40\"/>\n      <use x=\"314.753906\" xlink:href=\"#DejaVuSans-36\"/>\n      <use x=\"378.376953\" xlink:href=\"#DejaVuSans-41\"/>\n     </g>\n    </g>\n   </g>\n   <g id=\"matplotlib.axis_2\">\n    <g id=\"ytick_1\">\n     <g id=\"line2d_6\">\n      <defs>\n       <path d=\"M 0 0 \nL -3.5 0 \n\" id=\"m9ecabf5d0a\" style=\"stroke:#000000;stroke-width:0.8;\"/>\n      </defs>\n      <g>\n       <use style=\"stroke:#000000;stroke-width:0.8;\" x=\"56.50625\" xlink:href=\"#m9ecabf5d0a\" y=\"239.758125\"/>\n      </g>\n     </g>\n     <g id=\"text_7\">\n      <!-- 0.000 -->\n      <g transform=\"translate(20.878125 243.557344)scale(0.1 -0.1)\">\n       <defs>\n        <path d=\"M 10.6875 12.40625 \nL 21 12.40625 \nL 21 0 \nL 10.6875 0 \nz\n\" id=\"DejaVuSans-46\"/>\n       </defs>\n       <use xlink:href=\"#DejaVuSans-48\"/>\n       <use x=\"63.623047\" xlink:href=\"#DejaVuSans-46\"/>\n       <use x=\"95.410156\" xlink:href=\"#DejaVuSans-48\"/>\n       <use x=\"159.033203\" xlink:href=\"#DejaVuSans-48\"/>\n       <use x=\"222.65625\" xlink:href=\"#DejaVuSans-48\"/>\n      </g>\n     </g>\n    </g>\n    <g id=\"ytick_2\">\n     <g id=\"line2d_7\">\n      <g>\n       <use style=\"stroke:#000000;stroke-width:0.8;\" x=\"56.50625\" xlink:href=\"#m9ecabf5d0a\" y=\"212.033789\"/>\n      </g>\n     </g>\n     <g id=\"text_8\">\n      <!-- 0.005 -->\n      <g transform=\"translate(20.878125 215.833008)scale(0.1 -0.1)\">\n       <use xlink:href=\"#DejaVuSans-48\"/>\n       <use x=\"63.623047\" xlink:href=\"#DejaVuSans-46\"/>\n       <use x=\"95.410156\" xlink:href=\"#DejaVuSans-48\"/>\n       <use x=\"159.033203\" xlink:href=\"#DejaVuSans-48\"/>\n       <use x=\"222.65625\" xlink:href=\"#DejaVuSans-53\"/>\n      </g>\n     </g>\n    </g>\n    <g id=\"ytick_3\">\n     <g id=\"line2d_8\">\n      <g>\n       <use style=\"stroke:#000000;stroke-width:0.8;\" x=\"56.50625\" xlink:href=\"#m9ecabf5d0a\" y=\"184.309453\"/>\n      </g>\n     </g>\n     <g id=\"text_9\">\n      <!-- 0.010 -->\n      <g transform=\"translate(20.878125 188.108672)scale(0.1 -0.1)\">\n       <use xlink:href=\"#DejaVuSans-48\"/>\n       <use x=\"63.623047\" xlink:href=\"#DejaVuSans-46\"/>\n       <use x=\"95.410156\" xlink:href=\"#DejaVuSans-48\"/>\n       <use x=\"159.033203\" xlink:href=\"#DejaVuSans-49\"/>\n       <use x=\"222.65625\" xlink:href=\"#DejaVuSans-48\"/>\n      </g>\n     </g>\n    </g>\n    <g id=\"ytick_4\">\n     <g id=\"line2d_9\">\n      <g>\n       <use style=\"stroke:#000000;stroke-width:0.8;\" x=\"56.50625\" xlink:href=\"#m9ecabf5d0a\" y=\"156.585118\"/>\n      </g>\n     </g>\n     <g id=\"text_10\">\n      <!-- 0.015 -->\n      <g transform=\"translate(20.878125 160.384336)scale(0.1 -0.1)\">\n       <use xlink:href=\"#DejaVuSans-48\"/>\n       <use x=\"63.623047\" xlink:href=\"#DejaVuSans-46\"/>\n       <use x=\"95.410156\" xlink:href=\"#DejaVuSans-48\"/>\n       <use x=\"159.033203\" xlink:href=\"#DejaVuSans-49\"/>\n       <use x=\"222.65625\" xlink:href=\"#DejaVuSans-53\"/>\n      </g>\n     </g>\n    </g>\n    <g id=\"ytick_5\">\n     <g id=\"line2d_10\">\n      <g>\n       <use style=\"stroke:#000000;stroke-width:0.8;\" x=\"56.50625\" xlink:href=\"#m9ecabf5d0a\" y=\"128.860782\"/>\n      </g>\n     </g>\n     <g id=\"text_11\">\n      <!-- 0.020 -->\n      <g transform=\"translate(20.878125 132.660001)scale(0.1 -0.1)\">\n       <use xlink:href=\"#DejaVuSans-48\"/>\n       <use x=\"63.623047\" xlink:href=\"#DejaVuSans-46\"/>\n       <use x=\"95.410156\" xlink:href=\"#DejaVuSans-48\"/>\n       <use x=\"159.033203\" xlink:href=\"#DejaVuSans-50\"/>\n       <use x=\"222.65625\" xlink:href=\"#DejaVuSans-48\"/>\n      </g>\n     </g>\n    </g>\n    <g id=\"ytick_6\">\n     <g id=\"line2d_11\">\n      <g>\n       <use style=\"stroke:#000000;stroke-width:0.8;\" x=\"56.50625\" xlink:href=\"#m9ecabf5d0a\" y=\"101.136446\"/>\n      </g>\n     </g>\n     <g id=\"text_12\">\n      <!-- 0.025 -->\n      <g transform=\"translate(20.878125 104.935665)scale(0.1 -0.1)\">\n       <use xlink:href=\"#DejaVuSans-48\"/>\n       <use x=\"63.623047\" xlink:href=\"#DejaVuSans-46\"/>\n       <use x=\"95.410156\" xlink:href=\"#DejaVuSans-48\"/>\n       <use x=\"159.033203\" xlink:href=\"#DejaVuSans-50\"/>\n       <use x=\"222.65625\" xlink:href=\"#DejaVuSans-53\"/>\n      </g>\n     </g>\n    </g>\n    <g id=\"ytick_7\">\n     <g id=\"line2d_12\">\n      <g>\n       <use style=\"stroke:#000000;stroke-width:0.8;\" x=\"56.50625\" xlink:href=\"#m9ecabf5d0a\" y=\"73.41211\"/>\n      </g>\n     </g>\n     <g id=\"text_13\">\n      <!-- 0.030 -->\n      <g transform=\"translate(20.878125 77.211329)scale(0.1 -0.1)\">\n       <defs>\n        <path d=\"M 40.578125 39.3125 \nQ 47.65625 37.796875 51.625 33 \nQ 55.609375 28.21875 55.609375 21.1875 \nQ 55.609375 10.40625 48.1875 4.484375 \nQ 40.765625 -1.421875 27.09375 -1.421875 \nQ 22.515625 -1.421875 17.65625 -0.515625 \nQ 12.796875 0.390625 7.625 2.203125 \nL 7.625 11.71875 \nQ 11.71875 9.328125 16.59375 8.109375 \nQ 21.484375 6.890625 26.8125 6.890625 \nQ 36.078125 6.890625 40.9375 10.546875 \nQ 45.796875 14.203125 45.796875 21.1875 \nQ 45.796875 27.640625 41.28125 31.265625 \nQ 36.765625 34.90625 28.71875 34.90625 \nL 20.21875 34.90625 \nL 20.21875 43.015625 \nL 29.109375 43.015625 \nQ 36.375 43.015625 40.234375 45.921875 \nQ 44.09375 48.828125 44.09375 54.296875 \nQ 44.09375 59.90625 40.109375 62.90625 \nQ 36.140625 65.921875 28.71875 65.921875 \nQ 24.65625 65.921875 20.015625 65.03125 \nQ 15.375 64.15625 9.8125 62.3125 \nL 9.8125 71.09375 \nQ 15.4375 72.65625 20.34375 73.4375 \nQ 25.25 74.21875 29.59375 74.21875 \nQ 40.828125 74.21875 47.359375 69.109375 \nQ 53.90625 64.015625 53.90625 55.328125 \nQ 53.90625 49.265625 50.4375 45.09375 \nQ 46.96875 40.921875 40.578125 39.3125 \nz\n\" id=\"DejaVuSans-51\"/>\n       </defs>\n       <use xlink:href=\"#DejaVuSans-48\"/>\n       <use x=\"63.623047\" xlink:href=\"#DejaVuSans-46\"/>\n       <use x=\"95.410156\" xlink:href=\"#DejaVuSans-48\"/>\n       <use x=\"159.033203\" xlink:href=\"#DejaVuSans-51\"/>\n       <use x=\"222.65625\" xlink:href=\"#DejaVuSans-48\"/>\n      </g>\n     </g>\n    </g>\n    <g id=\"ytick_8\">\n     <g id=\"line2d_13\">\n      <g>\n       <use style=\"stroke:#000000;stroke-width:0.8;\" x=\"56.50625\" xlink:href=\"#m9ecabf5d0a\" y=\"45.687775\"/>\n      </g>\n     </g>\n     <g id=\"text_14\">\n      <!-- 0.035 -->\n      <g transform=\"translate(20.878125 49.486993)scale(0.1 -0.1)\">\n       <use xlink:href=\"#DejaVuSans-48\"/>\n       <use x=\"63.623047\" xlink:href=\"#DejaVuSans-46\"/>\n       <use x=\"95.410156\" xlink:href=\"#DejaVuSans-48\"/>\n       <use x=\"159.033203\" xlink:href=\"#DejaVuSans-51\"/>\n       <use x=\"222.65625\" xlink:href=\"#DejaVuSans-53\"/>\n      </g>\n     </g>\n    </g>\n    <g id=\"text_15\">\n     <!-- Frequency -->\n     <g transform=\"translate(14.798437 156.867812)rotate(-90)scale(0.1 -0.1)\">\n      <defs>\n       <path d=\"M 9.8125 72.90625 \nL 51.703125 72.90625 \nL 51.703125 64.59375 \nL 19.671875 64.59375 \nL 19.671875 43.109375 \nL 48.578125 43.109375 \nL 48.578125 34.8125 \nL 19.671875 34.8125 \nL 19.671875 0 \nL 9.8125 0 \nz\n\" id=\"DejaVuSans-70\"/>\n       <path d=\"M 14.796875 27.296875 \nQ 14.796875 17.390625 18.875 11.75 \nQ 22.953125 6.109375 30.078125 6.109375 \nQ 37.203125 6.109375 41.296875 11.75 \nQ 45.40625 17.390625 45.40625 27.296875 \nQ 45.40625 37.203125 41.296875 42.84375 \nQ 37.203125 48.484375 30.078125 48.484375 \nQ 22.953125 48.484375 18.875 42.84375 \nQ 14.796875 37.203125 14.796875 27.296875 \nz\nM 45.40625 8.203125 \nQ 42.578125 3.328125 38.25 0.953125 \nQ 33.9375 -1.421875 27.875 -1.421875 \nQ 17.96875 -1.421875 11.734375 6.484375 \nQ 5.515625 14.40625 5.515625 27.296875 \nQ 5.515625 40.1875 11.734375 48.09375 \nQ 17.96875 56 27.875 56 \nQ 33.9375 56 38.25 53.625 \nQ 42.578125 51.265625 45.40625 46.390625 \nL 45.40625 54.6875 \nL 54.390625 54.6875 \nL 54.390625 -20.796875 \nL 45.40625 -20.796875 \nz\n\" id=\"DejaVuSans-113\"/>\n       <path d=\"M 8.5 21.578125 \nL 8.5 54.6875 \nL 17.484375 54.6875 \nL 17.484375 21.921875 \nQ 17.484375 14.15625 20.5 10.265625 \nQ 23.53125 6.390625 29.59375 6.390625 \nQ 36.859375 6.390625 41.078125 11.03125 \nQ 45.3125 15.671875 45.3125 23.6875 \nL 45.3125 54.6875 \nL 54.296875 54.6875 \nL 54.296875 0 \nL 45.3125 0 \nL 45.3125 8.40625 \nQ 42.046875 3.421875 37.71875 1 \nQ 33.40625 -1.421875 27.6875 -1.421875 \nQ 18.265625 -1.421875 13.375 4.4375 \nQ 8.5 10.296875 8.5 21.578125 \nz\nM 31.109375 56 \nz\n\" id=\"DejaVuSans-117\"/>\n       <path d=\"M 54.890625 33.015625 \nL 54.890625 0 \nL 45.90625 0 \nL 45.90625 32.71875 \nQ 45.90625 40.484375 42.875 44.328125 \nQ 39.84375 48.1875 33.796875 48.1875 \nQ 26.515625 48.1875 22.3125 43.546875 \nQ 18.109375 38.921875 18.109375 30.90625 \nL 18.109375 0 \nL 9.078125 0 \nL 9.078125 54.6875 \nL 18.109375 54.6875 \nL 18.109375 46.1875 \nQ 21.34375 51.125 25.703125 53.5625 \nQ 30.078125 56 35.796875 56 \nQ 45.21875 56 50.046875 50.171875 \nQ 54.890625 44.34375 54.890625 33.015625 \nz\n\" id=\"DejaVuSans-110\"/>\n       <path d=\"M 32.171875 -5.078125 \nQ 28.375 -14.84375 24.75 -17.8125 \nQ 21.140625 -20.796875 15.09375 -20.796875 \nL 7.90625 -20.796875 \nL 7.90625 -13.28125 \nL 13.1875 -13.28125 \nQ 16.890625 -13.28125 18.9375 -11.515625 \nQ 21 -9.765625 23.484375 -3.21875 \nL 25.09375 0.875 \nL 2.984375 54.6875 \nL 12.5 54.6875 \nL 29.59375 11.921875 \nL 46.6875 54.6875 \nL 56.203125 54.6875 \nz\n\" id=\"DejaVuSans-121\"/>\n      </defs>\n      <use xlink:href=\"#DejaVuSans-70\"/>\n      <use x=\"50.269531\" xlink:href=\"#DejaVuSans-114\"/>\n      <use x=\"89.132812\" xlink:href=\"#DejaVuSans-101\"/>\n      <use x=\"150.65625\" xlink:href=\"#DejaVuSans-113\"/>\n      <use x=\"214.132812\" xlink:href=\"#DejaVuSans-117\"/>\n      <use x=\"277.511719\" xlink:href=\"#DejaVuSans-101\"/>\n      <use x=\"339.035156\" xlink:href=\"#DejaVuSans-110\"/>\n      <use x=\"402.414062\" xlink:href=\"#DejaVuSans-99\"/>\n      <use x=\"457.394531\" xlink:href=\"#DejaVuSans-121\"/>\n     </g>\n    </g>\n   </g>\n   <g id=\"line2d_14\">\n    <path clip-path=\"url(#pc060944cb9)\" d=\"M 71.724432 239.614685 \nL 74.798812 239.416574 \nL 77.873192 239.004026 \nL 80.947572 238.212054 \nL 84.021952 236.808892 \nL 87.096333 234.510127 \nL 90.170713 231.017053 \nL 93.245093 226.070169 \nL 96.319473 219.494312 \nL 99.393853 211.209355 \nL 102.468233 201.19919 \nL 105.542614 189.466588 \nL 108.616994 176.028563 \nL 111.691374 160.99856 \nL 114.765754 144.750137 \nL 117.840134 128.087764 \nL 120.914514 112.310765 \nL 123.988895 99.082179 \nL 127.063275 90.101036 \nL 130.137655 86.678904 \nL 133.212035 89.380137 \nL 136.286415 97.865062 \nL 139.360795 110.987696 \nL 142.435176 127.09421 \nL 145.509556 144.400887 \nL 148.583936 161.327725 \nL 151.658316 176.711755 \nL 154.732696 189.884263 \nL 157.807076 200.636349 \nL 160.881457 209.111004 \nL 163.955837 215.659491 \nL 167.030217 220.698087 \nL 170.104597 224.598364 \nL 173.178977 227.633311 \nL 176.253357 229.980383 \nL 179.327738 231.759872 \nL 182.402118 233.07595 \nL 185.476498 234.034874 \nL 188.550878 234.734575 \nL 191.625258 235.239299 \nL 194.699638 235.561382 \nL 197.774019 235.667005 \nL 200.848399 235.508989 \nL 203.922779 235.074557 \nL 206.997159 234.425963 \nL 210.071539 233.711411 \nL 213.145919 233.134757 \nL 216.2203 232.892117 \nL 219.29468 233.102331 \nL 222.36906 233.764259 \nL 225.44344 234.761319 \nL 228.51782 235.909208 \nL 231.5922 237.021547 \nL 234.666581 237.963127 \nL 237.740961 238.672253 \nL 240.815341 239.152392 \nL 243.889721 239.446572 \nL 246.964101 239.610381 \nL 250.038481 239.69353 \nL 253.112862 239.732087 \nL 256.187242 239.748449 \nL 259.261622 239.75481 \nL 262.336002 239.757078 \nL 265.410382 239.75782 \nL 268.484762 239.758043 \nL 271.559143 239.758105 \nL 274.633523 239.75812 \nL 277.707903 239.758124 \nL 280.782283 239.758125 \nL 283.856663 239.758124 \nL 286.931043 239.758122 \nL 290.005424 239.75811 \nL 293.079804 239.758065 \nL 296.154184 239.757906 \nL 299.228564 239.757384 \nL 302.302944 239.755814 \nL 305.377324 239.751478 \nL 308.451705 239.7405 \nL 311.526085 239.715035 \nL 314.600465 239.661005 \nL 317.674845 239.556315 \nL 320.749225 239.371514 \nL 323.823605 239.075308 \nL 326.897986 238.646311 \nL 329.972366 238.089118 \nL 333.046746 237.448282 \nL 336.121126 236.810959 \nL 339.195506 236.291356 \nL 342.269886 235.998511 \nL 345.344267 235.999233 \nL 348.418647 236.293355 \nL 351.493027 236.813791 \nL 354.567407 237.451389 \nL 357.641787 238.092003 \nL 360.716167 238.64866 \nL 363.790548 239.077013 \nL 366.864928 239.372627 \nL 369.939308 239.556973 \nL 373.013688 239.661359 \nL 376.088068 239.715209 \n\" style=\"fill:none;stroke:#1f77b4;stroke-linecap:square;stroke-width:1.5;\"/>\n   </g>\n   <g id=\"line2d_15\">\n    <path clip-path=\"url(#pc060944cb9)\" d=\"M 137.354771 239.758125 \nL 137.354771 22.318125 \n\" style=\"fill:none;stroke:#000000;stroke-dasharray:7.4,3.2;stroke-dashoffset:0;stroke-width:2;\"/>\n   </g>\n   <g id=\"patch_18\">\n    <path d=\"M 56.50625 239.758125 \nL 56.50625 22.318125 \n\" style=\"fill:none;stroke:#000000;stroke-linecap:square;stroke-linejoin:miter;stroke-width:0.8;\"/>\n   </g>\n   <g id=\"patch_19\">\n    <path d=\"M 391.30625 239.758125 \nL 391.30625 22.318125 \n\" style=\"fill:none;stroke:#000000;stroke-linecap:square;stroke-linejoin:miter;stroke-width:0.8;\"/>\n   </g>\n   <g id=\"patch_20\">\n    <path d=\"M 56.50625 239.758125 \nL 391.30625 239.758125 \n\" style=\"fill:none;stroke:#000000;stroke-linecap:square;stroke-linejoin:miter;stroke-width:0.8;\"/>\n   </g>\n   <g id=\"patch_21\">\n    <path d=\"M 56.50625 22.318125 \nL 391.30625 22.318125 \n\" style=\"fill:none;stroke:#000000;stroke-linecap:square;stroke-linejoin:miter;stroke-width:0.8;\"/>\n   </g>\n   <g id=\"text_16\">\n    <!-- K-beauty Price Distribution -->\n    <g transform=\"translate(144.099688 16.318125)scale(0.12 -0.12)\">\n     <defs>\n      <path d=\"M 9.8125 72.90625 \nL 19.671875 72.90625 \nL 19.671875 42.09375 \nL 52.390625 72.90625 \nL 65.09375 72.90625 \nL 28.90625 38.921875 \nL 67.671875 0 \nL 54.6875 0 \nL 19.671875 35.109375 \nL 19.671875 0 \nL 9.8125 0 \nz\n\" id=\"DejaVuSans-75\"/>\n      <path d=\"M 4.890625 31.390625 \nL 31.203125 31.390625 \nL 31.203125 23.390625 \nL 4.890625 23.390625 \nz\n\" id=\"DejaVuSans-45\"/>\n      <path d=\"M 48.6875 27.296875 \nQ 48.6875 37.203125 44.609375 42.84375 \nQ 40.53125 48.484375 33.40625 48.484375 \nQ 26.265625 48.484375 22.1875 42.84375 \nQ 18.109375 37.203125 18.109375 27.296875 \nQ 18.109375 17.390625 22.1875 11.75 \nQ 26.265625 6.109375 33.40625 6.109375 \nQ 40.53125 6.109375 44.609375 11.75 \nQ 48.6875 17.390625 48.6875 27.296875 \nz\nM 18.109375 46.390625 \nQ 20.953125 51.265625 25.265625 53.625 \nQ 29.59375 56 35.59375 56 \nQ 45.5625 56 51.78125 48.09375 \nQ 58.015625 40.1875 58.015625 27.296875 \nQ 58.015625 14.40625 51.78125 6.484375 \nQ 45.5625 -1.421875 35.59375 -1.421875 \nQ 29.59375 -1.421875 25.265625 0.953125 \nQ 20.953125 3.328125 18.109375 8.203125 \nL 18.109375 0 \nL 9.078125 0 \nL 9.078125 75.984375 \nL 18.109375 75.984375 \nz\n\" id=\"DejaVuSans-98\"/>\n      <path d=\"M 34.28125 27.484375 \nQ 23.390625 27.484375 19.1875 25 \nQ 14.984375 22.515625 14.984375 16.5 \nQ 14.984375 11.71875 18.140625 8.90625 \nQ 21.296875 6.109375 26.703125 6.109375 \nQ 34.1875 6.109375 38.703125 11.40625 \nQ 43.21875 16.703125 43.21875 25.484375 \nL 43.21875 27.484375 \nz\nM 52.203125 31.203125 \nL 52.203125 0 \nL 43.21875 0 \nL 43.21875 8.296875 \nQ 40.140625 3.328125 35.546875 0.953125 \nQ 30.953125 -1.421875 24.3125 -1.421875 \nQ 15.921875 -1.421875 10.953125 3.296875 \nQ 6 8.015625 6 15.921875 \nQ 6 25.140625 12.171875 29.828125 \nQ 18.359375 34.515625 30.609375 34.515625 \nL 43.21875 34.515625 \nL 43.21875 35.40625 \nQ 43.21875 41.609375 39.140625 45 \nQ 35.0625 48.390625 27.6875 48.390625 \nQ 23 48.390625 18.546875 47.265625 \nQ 14.109375 46.140625 10.015625 43.890625 \nL 10.015625 52.203125 \nQ 14.9375 54.109375 19.578125 55.046875 \nQ 24.21875 56 28.609375 56 \nQ 40.484375 56 46.34375 49.84375 \nQ 52.203125 43.703125 52.203125 31.203125 \nz\n\" id=\"DejaVuSans-97\"/>\n      <path d=\"M 18.3125 70.21875 \nL 18.3125 54.6875 \nL 36.8125 54.6875 \nL 36.8125 47.703125 \nL 18.3125 47.703125 \nL 18.3125 18.015625 \nQ 18.3125 11.328125 20.140625 9.421875 \nQ 21.96875 7.515625 27.59375 7.515625 \nL 36.8125 7.515625 \nL 36.8125 0 \nL 27.59375 0 \nQ 17.1875 0 13.234375 3.875 \nQ 9.28125 7.765625 9.28125 18.015625 \nL 9.28125 47.703125 \nL 2.6875 47.703125 \nL 2.6875 54.6875 \nL 9.28125 54.6875 \nL 9.28125 70.21875 \nz\n\" id=\"DejaVuSans-116\"/>\n      <path d=\"M 19.671875 64.796875 \nL 19.671875 8.109375 \nL 31.59375 8.109375 \nQ 46.6875 8.109375 53.6875 14.9375 \nQ 60.6875 21.78125 60.6875 36.53125 \nQ 60.6875 51.171875 53.6875 57.984375 \nQ 46.6875 64.796875 31.59375 64.796875 \nz\nM 9.8125 72.90625 \nL 30.078125 72.90625 \nQ 51.265625 72.90625 61.171875 64.09375 \nQ 71.09375 55.28125 71.09375 36.53125 \nQ 71.09375 17.671875 61.125 8.828125 \nQ 51.171875 0 30.078125 0 \nL 9.8125 0 \nz\n\" id=\"DejaVuSans-68\"/>\n      <path d=\"M 44.28125 53.078125 \nL 44.28125 44.578125 \nQ 40.484375 46.53125 36.375 47.5 \nQ 32.28125 48.484375 27.875 48.484375 \nQ 21.1875 48.484375 17.84375 46.4375 \nQ 14.5 44.390625 14.5 40.28125 \nQ 14.5 37.15625 16.890625 35.375 \nQ 19.28125 33.59375 26.515625 31.984375 \nL 29.59375 31.296875 \nQ 39.15625 29.25 43.1875 25.515625 \nQ 47.21875 21.78125 47.21875 15.09375 \nQ 47.21875 7.46875 41.1875 3.015625 \nQ 35.15625 -1.421875 24.609375 -1.421875 \nQ 20.21875 -1.421875 15.453125 -0.5625 \nQ 10.6875 0.296875 5.421875 2 \nL 5.421875 11.28125 \nQ 10.40625 8.6875 15.234375 7.390625 \nQ 20.0625 6.109375 24.8125 6.109375 \nQ 31.15625 6.109375 34.5625 8.28125 \nQ 37.984375 10.453125 37.984375 14.40625 \nQ 37.984375 18.0625 35.515625 20.015625 \nQ 33.0625 21.96875 24.703125 23.78125 \nL 21.578125 24.515625 \nQ 13.234375 26.265625 9.515625 29.90625 \nQ 5.8125 33.546875 5.8125 39.890625 \nQ 5.8125 47.609375 11.28125 51.796875 \nQ 16.75 56 26.8125 56 \nQ 31.78125 56 36.171875 55.265625 \nQ 40.578125 54.546875 44.28125 53.078125 \nz\n\" id=\"DejaVuSans-115\"/>\n      <path d=\"M 30.609375 48.390625 \nQ 23.390625 48.390625 19.1875 42.75 \nQ 14.984375 37.109375 14.984375 27.296875 \nQ 14.984375 17.484375 19.15625 11.84375 \nQ 23.34375 6.203125 30.609375 6.203125 \nQ 37.796875 6.203125 41.984375 11.859375 \nQ 46.1875 17.53125 46.1875 27.296875 \nQ 46.1875 37.015625 41.984375 42.703125 \nQ 37.796875 48.390625 30.609375 48.390625 \nz\nM 30.609375 56 \nQ 42.328125 56 49.015625 48.375 \nQ 55.71875 40.765625 55.71875 27.296875 \nQ 55.71875 13.875 49.015625 6.21875 \nQ 42.328125 -1.421875 30.609375 -1.421875 \nQ 18.84375 -1.421875 12.171875 6.21875 \nQ 5.515625 13.875 5.515625 27.296875 \nQ 5.515625 40.765625 12.171875 48.375 \nQ 18.84375 56 30.609375 56 \nz\n\" id=\"DejaVuSans-111\"/>\n     </defs>\n     <use xlink:href=\"#DejaVuSans-75\"/>\n     <use x=\"55.076172\" xlink:href=\"#DejaVuSans-45\"/>\n     <use x=\"91.160156\" xlink:href=\"#DejaVuSans-98\"/>\n     <use x=\"154.636719\" xlink:href=\"#DejaVuSans-101\"/>\n     <use x=\"216.160156\" xlink:href=\"#DejaVuSans-97\"/>\n     <use x=\"277.439453\" xlink:href=\"#DejaVuSans-117\"/>\n     <use x=\"340.818359\" xlink:href=\"#DejaVuSans-116\"/>\n     <use x=\"380.027344\" xlink:href=\"#DejaVuSans-121\"/>\n     <use x=\"439.207031\" xlink:href=\"#DejaVuSans-32\"/>\n     <use x=\"470.994141\" xlink:href=\"#DejaVuSans-80\"/>\n     <use x=\"529.546875\" xlink:href=\"#DejaVuSans-114\"/>\n     <use x=\"570.660156\" xlink:href=\"#DejaVuSans-105\"/>\n     <use x=\"598.443359\" xlink:href=\"#DejaVuSans-99\"/>\n     <use x=\"653.423828\" xlink:href=\"#DejaVuSans-101\"/>\n     <use x=\"714.947266\" xlink:href=\"#DejaVuSans-32\"/>\n     <use x=\"746.734375\" xlink:href=\"#DejaVuSans-68\"/>\n     <use x=\"823.736328\" xlink:href=\"#DejaVuSans-105\"/>\n     <use x=\"851.519531\" xlink:href=\"#DejaVuSans-115\"/>\n     <use x=\"903.619141\" xlink:href=\"#DejaVuSans-116\"/>\n     <use x=\"942.828125\" xlink:href=\"#DejaVuSans-114\"/>\n     <use x=\"983.941406\" xlink:href=\"#DejaVuSans-105\"/>\n     <use x=\"1011.724609\" xlink:href=\"#DejaVuSans-98\"/>\n     <use x=\"1075.201172\" xlink:href=\"#DejaVuSans-117\"/>\n     <use x=\"1138.580078\" xlink:href=\"#DejaVuSans-116\"/>\n     <use x=\"1177.789062\" xlink:href=\"#DejaVuSans-105\"/>\n     <use x=\"1205.572266\" xlink:href=\"#DejaVuSans-111\"/>\n     <use x=\"1266.753906\" xlink:href=\"#DejaVuSans-110\"/>\n    </g>\n   </g>\n  </g>\n </g>\n <defs>\n  <clipPath id=\"pc060944cb9\">\n   <rect height=\"217.44\" width=\"334.8\" x=\"56.50625\" y=\"22.318125\"/>\n  </clipPath>\n </defs>\n</svg>\n",
      "image/png": "[encoded data removed]"
     },
     "metadata": {
      "needs_background": "light"
     }
    }
   ],
   "source": [
    "plot1 = sns.distplot(data[\"Price\"], bins = 15)\n",
    "plt.title('K-beauty Price Distribution')\n",
    "plt.xlabel('Price ($)')\n",
    "plt.ylabel('Frequency')\n",
    "plt.axvline(data['Price'].mean(), color = 'black', linestyle='dashed', linewidth=2)\n",
    "plt.savefig('Price_distribution.png')"
   ]
  },
  {
   "source": [
    "## Check the distribution of each skin type"
   ],
   "cell_type": "markdown",
   "metadata": {}
  },
  {
   "cell_type": "code",
   "execution_count": 56,
   "metadata": {
    "tags": []
   },
   "outputs": [
    {
     "output_type": "stream",
     "name": "stdout",
     "text": "0    0.623574\n1    0.376426\nName: Oily, dtype: float64\n0    0.570342\n1    0.429658\nName: Dry, dtype: float64\n0    0.931559\n1    0.068441\nName: Combination, dtype: float64\n0    0.528517\n1    0.471483\nName: Normal, dtype: float64\n"
    }
   ],
   "source": [
    "s_type = ['Oily', \"Dry\", \"Combination\", \"Normal\"]\n",
    "for s in s_type:\n",
    "    print(data[s].value_counts(1))\n",
    "# Based on the percentages of 1 for each Skin Type column, the dataset is fairly representative of the general population of skin types. "
   ]
  },
  {
   "cell_type": "code",
   "execution_count": 57,
   "metadata": {},
   "outputs": [],
   "source": [
    "data['Skin Type'] = (data['Oily'].astype('str') + data['Dry'].astype('str') + data['Normal'].astype('str') + data['Combination'].astype('str'))"
   ]
  },
  {
   "cell_type": "code",
   "execution_count": 59,
   "metadata": {},
   "outputs": [],
   "source": [
    "data['Ingredients'] = data['Ingredients'].astype('str') \n",
    "ingredients = np.array(data.Ingredients)\n",
    "tokens = clean(ingredients)"
   ]
  },
  {
   "source": [
    "## Create new columns\n"
   ],
   "cell_type": "markdown",
   "metadata": {}
  },
  {
   "cell_type": "code",
   "execution_count": 60,
   "metadata": {
    "tags": []
   },
   "outputs": [
    {
     "output_type": "execute_result",
     "data": {
      "text/plain": "array(['1010', '1000', '0100', '0110', '0010', '0001'], dtype=object)"
     },
     "metadata": {},
     "execution_count": 60
    }
   ],
   "source": [
    "data['Skin Type'].unique()"
   ]
  },
  {
   "cell_type": "code",
   "execution_count": 61,
   "metadata": {
    "tags": []
   },
   "outputs": [],
   "source": [
    "key ={\"1000\": \"Oily\", \"1010\": \"Oily, Normal\", \"0100\": \"Dry\", '0110': \"Dry, Normal\" , '0010' : \"Normal\", '0001': \"Combination\"}\n",
    "\n",
    "s = []\n",
    "for t in data[\"Skin Type\"]:\n",
    "    s.append(key[t])\n",
    "    #print(t)\n",
    "\n",
    "data[\"s\"] = s"
   ]
  },
  {
   "source": [
    "## Ingredients only Recommender"
   ],
   "cell_type": "markdown",
   "metadata": {}
  },
  {
   "cell_type": "code",
   "execution_count": 63,
   "metadata": {
    "tags": []
   },
   "outputs": [
    {
     "output_type": "stream",
     "name": "stdout",
     "text": "[[1.         0.27080128 0.20380987 ... 0.20793098 0.37032804 0.37032804]\n [0.27080128 1.         0.45993311 ... 0.25594535 0.30389487 0.30389487]\n [0.20380987 0.45993311 1.         ... 0.23543548 0.17471414 0.17471414]\n ...\n [0.20793098 0.25594535 0.23543548 ... 1.         0.1833397  0.1833397 ]\n [0.37032804 0.30389487 0.17471414 ... 0.1833397  1.         0.95238095]\n [0.37032804 0.30389487 0.17471414 ... 0.1833397  0.95238095 1.        ]]\n"
    }
   ],
   "source": [
    "from sklearn.feature_extraction.text import CountVectorizer\n",
    "from sklearn.metrics.pairwise import cosine_similarity\n",
    "\n",
    "cv = CountVectorizer(binary = True)\n",
    "count_matrix = cv.fit_transform(tokens)\n",
    "cosine_sim = cosine_similarity(count_matrix)\n",
    "##print(cv.get_feature_names())\n",
    "print (cosine_sim)"
   ]
  },
  {
   "cell_type": "code",
   "execution_count": 77,
   "metadata": {
    "tags": []
   },
   "outputs": [
    {
     "output_type": "stream",
     "name": "stdout",
     "text": "Top 10 similar Products to A'pieu Real Big Yogurt One-Bottle (Strawberry) are:\n\nA'PIEU A'pieu Real Big Yogurt One-Bottle (Plain)\nSATURDAY SKIN Waterfall Glacier Water Cream\nETUDE HOUSE SoonJung Cica Balm-Panthensoside 5\nBENTON Fermentation Eye Cream\nENATURE Skin Pot Sleeping Pack\ngood (skin) days™ On The Bright Side Moisturizer\nNEOGEN Dermalogy Real Cica Pad\nDEWYTREE Ultra Vitalizing Snail Essence Water\nNEOGEN Probiotics Relief Cream\nMEDIHEAL D.N.A Hydrating Protein Sheet Mask\nENATURE Birch Juice Hydro Sleeping Pack\n"
    }
   ],
   "source": [
    "ingredient_list = data.Ingredients[262]\n",
    "\n",
    "product_index = get_index_from_list(ingredient_list)\n",
    "similar_products = list(enumerate(cosine_sim[product_index])) #accessing the row corresponding to given movie to find all the similarity scores for that movie and then enumerating over it\n",
    "\n",
    "\n",
    "#data[data.Ingredients == ingredient_list][\"Product\"].values[0]\n",
    "sim_products = list(enumerate(cosine_sim[product_index]))\n",
    "sorted_similar_product = sorted(sim_products,key=lambda x:x[1],reverse=True)[1:]\n",
    "i=0\n",
    "top_10_ing_only = []\n",
    "print(\"Top 10 similar Products to \"+ get_product_from_index(product_index) +\" are:\\n\")\n",
    "for element in sorted_similar_product:\n",
    "    top_10_ing_only.append(get_brand_from_index(element[0]) + \" \" + get_product_from_index(element[0]))\n",
    "    print(get_brand_from_index(element[0]) + \" \" + get_product_from_index(element[0]))\n",
    "    i=i+1\n",
    "    if i>10:\n",
    "        break"
   ]
  },
  {
   "source": [
    "## Ingredients and Skin Type Recommender"
   ],
   "cell_type": "markdown",
   "metadata": {}
  },
  {
   "cell_type": "code",
   "execution_count": 39,
   "metadata": {
    "tags": []
   },
   "outputs": [
    {
     "output_type": "stream",
     "name": "stdout",
     "text": "[[1.         0.27080128 0.20380987 ... 0.20793098 0.37032804 0.37032804]\n [0.27080128 1.         0.45993311 ... 0.25594535 0.30389487 0.30389487]\n [0.20380987 0.45993311 1.         ... 0.23543548 0.17471414 0.17471414]\n ...\n [0.20793098 0.25594535 0.23543548 ... 1.         0.1833397  0.1833397 ]\n [0.37032804 0.30389487 0.17471414 ... 0.1833397  1.         0.95238095]\n [0.37032804 0.30389487 0.17471414 ... 0.1833397  0.95238095 1.        ]]\n"
    }
   ],
   "source": [
    "cv = CountVectorizer(binary = True)\n",
    "count_matrix = cv.fit_transform(tokens)\n",
    "cosine_sim = cosine_similarity(count_matrix)\n",
    "##print(cv.get_feature_names())\n",
    "print (cosine_sim)"
   ]
  },
  {
   "cell_type": "code",
   "execution_count": 65,
   "metadata": {},
   "outputs": [],
   "source": [
    "data[\"combined\"] = data[\"Ingredients\"] + \", \" + data[\"s\"]"
   ]
  },
  {
   "cell_type": "code",
   "execution_count": 66,
   "metadata": {
    "tags": []
   },
   "outputs": [
    {
     "output_type": "stream",
     "name": "stdout",
     "text": "[[1.         0.27809923 0.22075539 ... 0.20505622 0.3649982  0.3649982 ]\n [0.27809923 1.         0.46657847 ... 0.25124489 0.2981424  0.2981424 ]\n [0.22075539 0.46657847 1.         ... 0.22935415 0.17010345 0.17010345]\n ...\n [0.20505622 0.25124489 0.22935415 ... 1.         0.19562701 0.19562701]\n [0.3649982  0.2981424  0.17010345 ... 0.19562701 1.         0.953125  ]\n [0.3649982  0.2981424  0.17010345 ... 0.19562701 0.953125   1.        ]]\n"
    }
   ],
   "source": [
    "from sklearn.feature_extraction.text import CountVectorizer\n",
    "from sklearn.metrics.pairwise import cosine_similarity\n",
    "\n",
    "c = np.array(data.combined)\n",
    "tokens2 = clean(c)\n",
    "cv2 = CountVectorizer(binary =True)\n",
    "count_matrix2 = cv2.fit_transform(tokens2)\n",
    "cosine_sim2 = cosine_similarity(count_matrix2)\n",
    "#print(cv.get_feature_names())\n",
    "print (cosine_sim2)"
   ]
  },
  {
   "cell_type": "code",
   "execution_count": 76,
   "metadata": {
    "tags": []
   },
   "outputs": [
    {
     "output_type": "stream",
     "name": "stdout",
     "text": "Top 10 similar Products to A'pieu Real Big Yogurt One-Bottle (Strawberry) are:\n\nA'PIEU A'pieu Real Big Yogurt One-Bottle (Plain)\nSATURDAY SKIN Waterfall Glacier Water Cream\nETUDE HOUSE SoonJung Cica Balm-Panthensoside 5\nBENTON Fermentation Eye Cream\nENATURE Skin Pot Sleeping Pack\nNEOGEN Dermalogy Real Cica Pad\ngood (skin) days™ On The Bright Side Moisturizer\nNACIFIC Fresh Herb Origin Eye Cream \nNEOGEN Probiotics Relief Cream\nDEWYTREE Ultra Vitalizing Snail Essence Water\nMEDIHEAL D.N.A Hydrating Protein Sheet Mask\n"
    }
   ],
   "source": [
    "ingredient_list = data.combined[262]\n",
    "\n",
    "product_index2 = get_index_from_combined_data(ingredient_list)\n",
    "similar_products = list(enumerate(cosine_sim2[product_index2])) #accessing the row corresponding to given movie to find all the similarity scores for that movie and then enumerating over it\n",
    "\n",
    "\n",
    "#data[data.Ingredients == ingredient_list][\"Product\"].values[0]\n",
    "sim_products = list(enumerate(cosine_sim2[product_index2]))\n",
    "sorted_similar_product = sorted(sim_products,key=lambda x:x[1],reverse=True)[1:]\n",
    "i=0\n",
    "print(\"Top 10 similar Products to \"+ get_product_from_index(product_index2) +\" are:\\n\")\n",
    "top_10_ing_skin =[]\n",
    "for element in sorted_similar_product:\n",
    "    top_10_ing_skin.append(get_brand_from_index(element[0]) + \" \" + get_product_from_index(element[0]))\n",
    "    print(get_brand_from_index(element[0]) + \" \" + get_product_from_index(element[0]))\n",
    "    i=i+1\n",
    "    if i>10:\n",
    "        break"
   ]
  },
  {
   "source": [
    "#### We can compare the ingredient list of any two products in the top 10 lists to see if our method was appropriate. "
   ],
   "cell_type": "markdown",
   "metadata": {}
  },
  {
   "cell_type": "code",
   "execution_count": 73,
   "metadata": {
    "tags": []
   },
   "outputs": [
    {
     "output_type": "stream",
     "name": "stdout",
     "text": "Water, Propanediol, 1,2-Hexanediol, Hydroxyacetophenone, Glycerin, PEG-60 Hydrogenated Castor Oil, Acrylates/C10-30 Alkyl Acrylate Crosspolymer, Ethylhexyl Palmitate, Tromethamine, Betaine, Hydroxyethyl Acrylate/Sodium Acryloyldimethyl Taurate Copolymer, Fragrance, Cetyl Ethylhexanoate, Ethylhexylglycerin, Polyglyceryl-10 Oleate, Disodium EDTA, Butylene Glycol, Alcohol, Fragaria Chiloensis (Strawberry) Fruit Extract, Lecithin, Polysorbate 20, Hydrogenated Lecithin, Phenoxyethanol, Caprylic/Capric Triglyceride, Yogurt Extract, Sodium Ascorbyl Phosphate, Sodium Hyaluronate, Copper Tripeptide-1, Nicotinoyl Tripeptide-1, Lactobacillus Ferment Lysate Filtrate, Oligopeptide-29, Nonapeptide-1\n\nWater, Glycerin, Propanediol, 1,2-Hexanediol, Betaine, Pentylene Glycol, Polymehtylsilsequioxane, Sodium Acrylate/Sodium Acryloyldimethyl Taureate Copolymer, Cyclohexasiloxane, Isohexadecane, Hydroxyethyl Acrylate/Soduium Acryloyldimethyl Taurate Copolymer, Cyclopentasiloxane, Isohexadecane, Hydroxyethyl Acrylate/Sodium Acryloyldimethyl Taurate Copolymer, Acrylates/C10-30 Alkyl Acrylate Crosspolymer, Tromethamine, Polysorbate 80, Ethylhexylglycerin, Sorbitan Oleate, Disodium EDTA, Glyceryl Acrylate/Acrylic Acid Copolymer, Caprylyl Glycol, Hydrogenated Lecithin, Cetraria Islandica Extract, Ferment Extract, Xanthan Gum, Phenoxyethanol, Alanine, Proline, Serine, Sodium Phosphate, Sodium Hydroxide, sh-Oligopeptide-1, sh-Polypeptide-1, sh-Oligopeptide-2, sh-Polypeptide-22, sh-Polypeptide-45, sh-Polypeptide-8, sh-Polypeptide-9\n\n"
    }
   ],
   "source": [
    "indexs  = [data[data[\"Product\"]== \"A'pieu Real Big Yogurt One-Bottle (Strawberry)\"].index.values[0], data[data[\"Product\"]== \"Waterfall Glacier Water Cream\"].index.values[0]]\n",
    "for i in indexs:\n",
    "    print(data.Ingredients[i])"
   ]
  },
  {
   "source": [
    "#### It is the standard to list the ingredients in the order that ranks their amount in the product on all comestics and beauty products. Thus, ingredients that constitutes the formulation the most are list first and the ones that make up less of the product are listed last. For these two products, water is listed first and propanediol is listed second and third respectively. "
   ],
   "cell_type": "markdown",
   "metadata": {}
  },
  {
   "source": [
    "## Comparing the two Recommenders"
   ],
   "cell_type": "markdown",
   "metadata": {}
  },
  {
   "cell_type": "code",
   "execution_count": 78,
   "metadata": {},
   "outputs": [
    {
     "output_type": "execute_result",
     "data": {
      "text/plain": "[\"A'PIEU A'pieu Real Big Yogurt One-Bottle (Plain)\",\n 'SATURDAY SKIN Waterfall Glacier Water Cream',\n 'ETUDE HOUSE SoonJung Cica Balm-Panthensoside 5',\n 'BENTON Fermentation Eye Cream',\n 'ENATURE Skin Pot Sleeping Pack',\n 'good (skin) days™ On The Bright Side Moisturizer',\n 'NEOGEN Dermalogy Real Cica Pad',\n 'DEWYTREE Ultra Vitalizing Snail Essence Water',\n 'NEOGEN Probiotics Relief Cream',\n 'MEDIHEAL D.N.A Hydrating Protein Sheet Mask',\n 'ENATURE Birch Juice Hydro Sleeping Pack']"
     },
     "metadata": {},
     "execution_count": 78
    }
   ],
   "source": [
    "top_10_ing_only\n"
   ]
  },
  {
   "cell_type": "code",
   "execution_count": 79,
   "metadata": {},
   "outputs": [
    {
     "output_type": "execute_result",
     "data": {
      "text/plain": "[\"A'PIEU A'pieu Real Big Yogurt One-Bottle (Plain)\",\n 'SATURDAY SKIN Waterfall Glacier Water Cream',\n 'ETUDE HOUSE SoonJung Cica Balm-Panthensoside 5',\n 'BENTON Fermentation Eye Cream',\n 'ENATURE Skin Pot Sleeping Pack',\n 'NEOGEN Dermalogy Real Cica Pad',\n 'good (skin) days™ On The Bright Side Moisturizer',\n 'NACIFIC Fresh Herb Origin Eye Cream\\xa0',\n 'NEOGEN Probiotics Relief Cream',\n 'DEWYTREE Ultra Vitalizing Snail Essence Water',\n 'MEDIHEAL D.N.A Hydrating Protein Sheet Mask']"
     },
     "metadata": {},
     "execution_count": 79
    }
   ],
   "source": [
    "top_10_ing_skin"
   ]
  },
  {
   "source": [
    "The first 5 listings are the same and in the same ranking. The remaining 5, however is quite different. The most notably different is ranking. Althought the products in the top 6-10 are the same except for __*ENATURE Birch Juice Hydro Sleeping Pack*__ and __*MEDIHEAL D.N.A Hydrating Protein Sheet Mask*__, the ranking is not. \n",
    "\n",
    "This difference does not necessarily make one recommender better than the other. If you are customer who is looking to try new skincare products that are similiar to products you already own, the ingredient only recommender might be a better fit. Whereas, if you are someone who soley wants products that are specifically formulated for your skin type, the ingredient and skin type recommender will work out better. "
   ],
   "cell_type": "markdown",
   "metadata": {}
  }
 ]
}